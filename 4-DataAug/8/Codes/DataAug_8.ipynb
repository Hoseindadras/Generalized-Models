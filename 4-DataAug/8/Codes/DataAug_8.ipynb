{
  "metadata": {
    "kernelspec": {
      "language": "python",
      "display_name": "Python 3",
      "name": "python3"
    },
    "language_info": {
      "name": "python",
      "version": "3.10.13",
      "mimetype": "text/x-python",
      "codemirror_mode": {
        "name": "ipython",
        "version": 3
      },
      "pygments_lexer": "ipython3",
      "nbconvert_exporter": "python",
      "file_extension": ".py"
    },
    "kaggle": {
      "accelerator": "gpu",
      "dataSources": [],
      "dockerImageVersionId": 30674,
      "isInternetEnabled": true,
      "language": "python",
      "sourceType": "notebook",
      "isGpuEnabled": true
    },
    "colab": {
      "provenance": []
    }
  },
  "nbformat_minor": 0,
  "nbformat": 4,
  "cells": [
    {
      "cell_type": "markdown",
      "source": [
        "### Import required libraries"
      ],
      "metadata": {
        "id": "DkVbFZ06I_Th"
      }
    },
    {
      "cell_type": "code",
      "source": [
        "import torch\n",
        "import torch.nn as nn\n",
        "import torch.nn.functional as F\n",
        "import torchvision\n",
        "import torchvision.transforms as transforms\n",
        "from typing import Type, List\n",
        "from torch.utils.data import DataLoader\n",
        "from torchvision.datasets import SVHN, MNIST\n",
        "import matplotlib.pyplot as plt\n",
        "from torchvision.transforms import Compose, Resize, Grayscale, ToTensor, Normalize, RandomApply, ColorJitter, RandomRotation, RandomResizedCrop"
      ],
      "metadata": {
        "execution": {
          "iopub.status.busy": "2024-03-29T18:14:48.762281Z",
          "iopub.execute_input": "2024-03-29T18:14:48.762628Z",
          "iopub.status.idle": "2024-03-29T18:14:55.629380Z",
          "shell.execute_reply.started": "2024-03-29T18:14:48.762600Z",
          "shell.execute_reply": "2024-03-29T18:14:55.628583Z"
        },
        "trusted": true,
        "id": "5hi-_urFI_Tk"
      },
      "execution_count": null,
      "outputs": []
    },
    {
      "cell_type": "markdown",
      "source": [
        "### BasicBlock"
      ],
      "metadata": {
        "id": "Bl2nwrPQI_Tm"
      }
    },
    {
      "cell_type": "code",
      "source": [
        "class BasicBlock(nn.Module):\n",
        "    expansion = 1\n",
        "\n",
        "    def __init__(self, in_channels, out_channels, stride=1, downsample=None, dropout_rate=0.0):\n",
        "        super(BasicBlock, self).__init__()\n",
        "        self.conv1 = nn.Conv2d(in_channels, out_channels, kernel_size=3, stride=stride, padding=1, bias=False)\n",
        "        self.bn1 = nn.BatchNorm2d(out_channels)\n",
        "        self.relu = nn.ReLU(inplace=True)\n",
        "        self.dropout = nn.Dropout2d(dropout_rate)\n",
        "        self.conv2 = nn.Conv2d(out_channels, out_channels * self.expansion, kernel_size=3, stride=1, padding=1, bias=False)\n",
        "        self.bn2 = nn.BatchNorm2d(out_channels * self.expansion)\n",
        "        self.downsample = downsample\n",
        "\n",
        "    def forward(self, x):\n",
        "        identity = x if self.downsample is None else self.downsample(x)\n",
        "\n",
        "        out = self.conv1(x)\n",
        "        out = self.bn1(out)\n",
        "        out = self.relu(out)\n",
        "        out = self.dropout(out)\n",
        "        out = self.conv2(out)\n",
        "        out = self.bn2(out)\n",
        "\n",
        "        if self.downsample is not None:\n",
        "            identity = self.downsample(x)\n",
        "\n",
        "        out += identity\n",
        "        out = self.relu(out)\n",
        "        return out\n",
        "\n"
      ],
      "metadata": {
        "execution": {
          "iopub.status.busy": "2024-03-29T18:14:57.522444Z",
          "iopub.execute_input": "2024-03-29T18:14:57.523570Z",
          "iopub.status.idle": "2024-03-29T18:14:57.533241Z",
          "shell.execute_reply.started": "2024-03-29T18:14:57.523536Z",
          "shell.execute_reply": "2024-03-29T18:14:57.532373Z"
        },
        "trusted": true,
        "id": "D9AuUKYDI_Tm"
      },
      "execution_count": null,
      "outputs": []
    },
    {
      "cell_type": "markdown",
      "source": [
        "### Define ResNet"
      ],
      "metadata": {
        "id": "mCxZ11OXI_Tn"
      }
    },
    {
      "cell_type": "code",
      "source": [
        "class ResNet(nn.Module):\n",
        "    def __init__(self, block: Type[BasicBlock], layers: List[int], num_classes: int = 10, img_channels: int = 3, dropout_rate=0.5):\n",
        "        super(ResNet, self).__init__()\n",
        "        self.in_channels = 64\n",
        "        self.conv1 = nn.Conv2d(img_channels, 64, kernel_size=7, stride=2, padding=3, bias=False)\n",
        "        self.bn1 = nn.BatchNorm2d(64)\n",
        "        self.relu = nn.ReLU(inplace=True)\n",
        "        self.maxpool = nn.MaxPool2d(kernel_size=3, stride=2, padding=1)\n",
        "\n",
        "        self.layer1 = self._make_layer(block, 64, layers[0], dropout_rate=dropout_rate)\n",
        "        self.layer2 = self._make_layer(block, 128, layers[1], stride=2, dropout_rate=dropout_rate)\n",
        "        self.layer3 = self._make_layer(block, 256, layers[2], stride=2, dropout_rate=dropout_rate)\n",
        "        self.layer4 = self._make_layer(block, 512, layers[3], stride=2, dropout_rate=dropout_rate)\n",
        "\n",
        "        self.avgpool = nn.AdaptiveAvgPool2d((1, 1))\n",
        "        self.dropout = nn.Dropout(dropout_rate)\n",
        "        self.fc = nn.Linear(512 * block.expansion, num_classes)\n",
        "\n",
        "    def _make_layer(self, block, out_channels, blocks, stride=1, dropout_rate=0.0):\n",
        "        downsample = None\n",
        "        if stride != 1 or self.in_channels != out_channels * block.expansion:\n",
        "            downsample = nn.Sequential(\n",
        "                nn.Conv2d(self.in_channels, out_channels * block.expansion, kernel_size=1, stride=stride, bias=False),\n",
        "                nn.BatchNorm2d(out_channels * block.expansion),\n",
        "            )\n",
        "\n",
        "        layers = [block(self.in_channels, out_channels, stride, downsample, dropout_rate=dropout_rate)]\n",
        "        self.in_channels = out_channels * block.expansion\n",
        "        for _ in range(1, blocks):\n",
        "            layers.append(block(self.in_channels, out_channels, dropout_rate=dropout_rate))\n",
        "\n",
        "        return nn.Sequential(*layers)\n",
        "\n",
        "    def forward(self, x):\n",
        "        x = self.conv1(x)\n",
        "        x = self.bn1(x)\n",
        "        x = self.relu(x)\n",
        "        x = self.maxpool(x)\n",
        "\n",
        "        x = self.layer1(x)\n",
        "        x = self.layer2(x)\n",
        "        x = self.layer3(x)\n",
        "        x = self.layer4(x)\n",
        "\n",
        "        x = self.avgpool(x)\n",
        "        x = torch.flatten(x, 1)\n",
        "        x = self.dropout(x)\n",
        "        x = self.fc(x)\n",
        "        return x\n"
      ],
      "metadata": {
        "execution": {
          "iopub.status.busy": "2024-03-29T18:14:59.819658Z",
          "iopub.execute_input": "2024-03-29T18:14:59.820277Z",
          "iopub.status.idle": "2024-03-29T18:14:59.835210Z",
          "shell.execute_reply.started": "2024-03-29T18:14:59.820247Z",
          "shell.execute_reply": "2024-03-29T18:14:59.834255Z"
        },
        "trusted": true,
        "id": "vuUrFn78I_To"
      },
      "execution_count": null,
      "outputs": []
    },
    {
      "cell_type": "markdown",
      "source": [
        "### base transformation - DataAug"
      ],
      "metadata": {
        "id": "YzKxYu1hI_Tp"
      }
    },
    {
      "cell_type": "code",
      "source": [
        "transform_svhn = Compose([\n",
        "    RandomApply([ColorJitter(brightness=0.5, contrast=0.5)], p=0.3),\n",
        "    RandomRotation(degrees=15),\n",
        "    RandomResizedCrop(size=32, scale=(0.8, 1.0)),\n",
        "    Grayscale(num_output_channels=3),\n",
        "    ToTensor(),\n",
        "    Normalize(mean=[0.4377, 0.4438, 0.4728], std=[0.1201, 0.1231, 0.1052])\n",
        "])\n",
        "\n",
        "\n",
        "transform_mnist = Compose([\n",
        "    Resize((32,32)),\n",
        "    Grayscale(num_output_channels=3),\n",
        "    ToTensor(),\n",
        "    Normalize(mean=[0.1307, 0.1307, 0.1307], std=[0.3015, 0.3015, 0.3015])\n",
        "])"
      ],
      "metadata": {
        "execution": {
          "iopub.status.busy": "2024-03-29T18:15:01.722370Z",
          "iopub.execute_input": "2024-03-29T18:15:01.722754Z",
          "iopub.status.idle": "2024-03-29T18:15:01.730083Z",
          "shell.execute_reply.started": "2024-03-29T18:15:01.722726Z",
          "shell.execute_reply": "2024-03-29T18:15:01.729151Z"
        },
        "trusted": true,
        "id": "1owHH5IiI_Tp"
      },
      "execution_count": null,
      "outputs": []
    },
    {
      "cell_type": "markdown",
      "source": [
        "### loading the Datasets"
      ],
      "metadata": {
        "id": "KqVvP-hUI_Tq"
      }
    },
    {
      "cell_type": "code",
      "source": [
        "train_dataset_svhn = SVHN(root='./data', split='train', download=True, transform=transform_svhn)\n",
        "test_dataset_svhn = SVHN(root='./data', split='test', download=True, transform=transform_svhn)\n",
        "\n",
        "train_loader_svhn = DataLoader(dataset=train_dataset_svhn, batch_size=16, shuffle=True, num_workers=2)\n",
        "test_loader_svhn = DataLoader(dataset=test_dataset_svhn, batch_size=16, shuffle=False, num_workers=2)\n",
        "\n",
        "train_dataset_mnist = MNIST(root='./data', train=True, download=True, transform=transform_mnist)\n",
        "test_dataset_mnist = MNIST(root='./data', train=False, download=True, transform=transform_mnist)\n",
        "\n",
        "train_loader_mnist = DataLoader(dataset=train_dataset_mnist, batch_size=16, shuffle=True, num_workers=2)\n",
        "test_loader_mnist = DataLoader(dataset=test_dataset_mnist, batch_size=16, shuffle=False, num_workers=2)\n",
        "\n",
        "print(\"Data loaders have been created.\")"
      ],
      "metadata": {
        "execution": {
          "iopub.status.busy": "2024-03-29T18:15:05.066731Z",
          "iopub.execute_input": "2024-03-29T18:15:05.067660Z",
          "iopub.status.idle": "2024-03-29T18:15:30.057382Z",
          "shell.execute_reply.started": "2024-03-29T18:15:05.067629Z",
          "shell.execute_reply": "2024-03-29T18:15:30.056253Z"
        },
        "trusted": true,
        "id": "Xc8fhF0hI_Tr",
        "outputId": "143ad468-ba7b-4984-eab8-4ecebc34c137"
      },
      "execution_count": null,
      "outputs": [
        {
          "name": "stdout",
          "text": "Downloading http://ufldl.stanford.edu/housenumbers/train_32x32.mat to ./data/train_32x32.mat\n",
          "output_type": "stream"
        },
        {
          "name": "stderr",
          "text": "100%|██████████| 182040794/182040794 [00:10<00:00, 16888113.20it/s]\n",
          "output_type": "stream"
        },
        {
          "name": "stdout",
          "text": "Downloading http://ufldl.stanford.edu/housenumbers/test_32x32.mat to ./data/test_32x32.mat\n",
          "output_type": "stream"
        },
        {
          "name": "stderr",
          "text": "100%|██████████| 64275384/64275384 [00:08<00:00, 8012595.80it/s] \n",
          "output_type": "stream"
        },
        {
          "name": "stdout",
          "text": "Downloading http://yann.lecun.com/exdb/mnist/train-images-idx3-ubyte.gz\nDownloading http://yann.lecun.com/exdb/mnist/train-images-idx3-ubyte.gz to ./data/MNIST/raw/train-images-idx3-ubyte.gz\n",
          "output_type": "stream"
        },
        {
          "name": "stderr",
          "text": "100%|██████████| 9912422/9912422 [00:00<00:00, 69114421.68it/s]\n",
          "output_type": "stream"
        },
        {
          "name": "stdout",
          "text": "Extracting ./data/MNIST/raw/train-images-idx3-ubyte.gz to ./data/MNIST/raw\n\nDownloading http://yann.lecun.com/exdb/mnist/train-labels-idx1-ubyte.gz\nDownloading http://yann.lecun.com/exdb/mnist/train-labels-idx1-ubyte.gz to ./data/MNIST/raw/train-labels-idx1-ubyte.gz\n",
          "output_type": "stream"
        },
        {
          "name": "stderr",
          "text": "100%|██████████| 28881/28881 [00:00<00:00, 39380914.77it/s]\n",
          "output_type": "stream"
        },
        {
          "name": "stdout",
          "text": "Extracting ./data/MNIST/raw/train-labels-idx1-ubyte.gz to ./data/MNIST/raw\n\nDownloading http://yann.lecun.com/exdb/mnist/t10k-images-idx3-ubyte.gz\nDownloading http://yann.lecun.com/exdb/mnist/t10k-images-idx3-ubyte.gz to ./data/MNIST/raw/t10k-images-idx3-ubyte.gz\n",
          "output_type": "stream"
        },
        {
          "name": "stderr",
          "text": "100%|██████████| 1648877/1648877 [00:00<00:00, 27656374.93it/s]\n",
          "output_type": "stream"
        },
        {
          "name": "stdout",
          "text": "Extracting ./data/MNIST/raw/t10k-images-idx3-ubyte.gz to ./data/MNIST/raw\n\nDownloading http://yann.lecun.com/exdb/mnist/t10k-labels-idx1-ubyte.gz\nDownloading http://yann.lecun.com/exdb/mnist/t10k-labels-idx1-ubyte.gz to ./data/MNIST/raw/t10k-labels-idx1-ubyte.gz\n",
          "output_type": "stream"
        },
        {
          "name": "stderr",
          "text": "100%|██████████| 4542/4542 [00:00<00:00, 7186167.02it/s]\n",
          "output_type": "stream"
        },
        {
          "name": "stdout",
          "text": "Extracting ./data/MNIST/raw/t10k-labels-idx1-ubyte.gz to ./data/MNIST/raw\n\nData loaders have been created.\n",
          "output_type": "stream"
        }
      ]
    },
    {
      "cell_type": "markdown",
      "source": [
        "### loading criterion , ..."
      ],
      "metadata": {
        "id": "Sri6yvseI_Ts"
      }
    },
    {
      "cell_type": "code",
      "source": [
        "device = torch.device('cuda' if torch.cuda.is_available() else 'cpu')\n",
        "model = ResNet(block=BasicBlock, layers=[2, 2, 2, 2], num_classes=10, img_channels=3,  dropout_rate=0.5)\n",
        "model.to(device)\n",
        "criterion = nn.CrossEntropyLoss()\n",
        "optimizer = torch.optim.SGD(model.parameters(), lr=0.001, momentum=0.9)"
      ],
      "metadata": {
        "execution": {
          "iopub.status.busy": "2024-03-29T18:15:45.253830Z",
          "iopub.execute_input": "2024-03-29T18:15:45.254948Z",
          "iopub.status.idle": "2024-03-29T18:15:45.628093Z",
          "shell.execute_reply.started": "2024-03-29T18:15:45.254908Z",
          "shell.execute_reply": "2024-03-29T18:15:45.627122Z"
        },
        "trusted": true,
        "id": "BBV6lku2I_Ts"
      },
      "execution_count": null,
      "outputs": []
    },
    {
      "cell_type": "markdown",
      "source": [
        "### Training time"
      ],
      "metadata": {
        "id": "6jCGxubII_Tt"
      }
    },
    {
      "cell_type": "code",
      "source": [
        "num_epochs = 10\n",
        "losses = []\n",
        "\n",
        "for epoch in range(num_epochs):\n",
        "    model.train()\n",
        "    running_loss = 0.0\n",
        "    for images, labels in train_loader_svhn:\n",
        "        images, labels = images.to(device), labels.to(device)\n",
        "\n",
        "        optimizer.zero_grad()\n",
        "        outputs = model(images)\n",
        "        loss = criterion(outputs, labels)\n",
        "        loss.backward()\n",
        "        optimizer.step()\n",
        "\n",
        "        running_loss += loss.item()\n",
        "\n",
        "    epoch_loss = running_loss / len(train_loader_svhn)\n",
        "    losses.append(epoch_loss)\n",
        "    print(f\"Epoch [{epoch+1}/{num_epochs}], Loss: {epoch_loss:.4f}\")"
      ],
      "metadata": {
        "execution": {
          "iopub.status.busy": "2024-03-29T18:15:47.003426Z",
          "iopub.execute_input": "2024-03-29T18:15:47.004170Z",
          "iopub.status.idle": "2024-03-29T18:45:24.476677Z",
          "shell.execute_reply.started": "2024-03-29T18:15:47.004129Z",
          "shell.execute_reply": "2024-03-29T18:45:24.475395Z"
        },
        "trusted": true,
        "id": "wiiUjv5fI_Tu",
        "outputId": "76e15f16-61e1-4eb5-8fe7-b79bb90e02a1"
      },
      "execution_count": null,
      "outputs": [
        {
          "name": "stdout",
          "text": "Epoch [1/10], Loss: 2.3401\nEpoch [2/10], Loss: 2.2435\nEpoch [3/10], Loss: 2.2349\nEpoch [4/10], Loss: 2.0208\nEpoch [5/10], Loss: 0.9672\nEpoch [6/10], Loss: 0.5798\nEpoch [7/10], Loss: 0.4661\nEpoch [8/10], Loss: 0.4023\nEpoch [9/10], Loss: 0.3613\nEpoch [10/10], Loss: 0.3344\n",
          "output_type": "stream"
        }
      ]
    },
    {
      "cell_type": "markdown",
      "source": [
        "### plotting the loss"
      ],
      "metadata": {
        "id": "zDU8Vo--I_Tu"
      }
    },
    {
      "cell_type": "code",
      "source": [
        "plt.figure(figsize=(10, 5))\n",
        "plt.plot(range(1, num_epochs+1), losses, marker='o', color='blue', label='Training Loss')\n",
        "plt.title(\"Training Loss\")\n",
        "plt.xlabel(\"Epoch\")\n",
        "plt.ylabel(\"Loss\")\n",
        "plt.grid(True)\n",
        "plt.legend()\n",
        "plt.show()"
      ],
      "metadata": {
        "execution": {
          "iopub.status.busy": "2024-03-29T18:45:55.441536Z",
          "iopub.execute_input": "2024-03-29T18:45:55.442366Z",
          "iopub.status.idle": "2024-03-29T18:45:55.779500Z",
          "shell.execute_reply.started": "2024-03-29T18:45:55.442326Z",
          "shell.execute_reply": "2024-03-29T18:45:55.778617Z"
        },
        "trusted": true,
        "id": "R4QOjScxI_Tv",
        "outputId": "f9876b2e-3d8a-4542-d7b9-4099bb3fa184"
      },
      "execution_count": null,
      "outputs": [
        {
          "output_type": "display_data",
          "data": {
            "text/plain": "<Figure size 1000x500 with 1 Axes>",
            "image/png": "[encoded data removed]"
          },
          "metadata": {}
        }
      ]
    },
    {
      "cell_type": "markdown",
      "source": [
        "### Testing model"
      ],
      "metadata": {
        "id": "Wvm8EJ3hI_Tv"
      }
    },
    {
      "cell_type": "code",
      "source": [
        "def test_model(model, test_loader):\n",
        "    model.eval()\n",
        "    correct = 0\n",
        "    total = 0\n",
        "    with torch.no_grad():\n",
        "        for images, labels in test_loader:\n",
        "            images, labels = images.to(device), labels.to(device)\n",
        "            outputs = model(images)\n",
        "            _, predicted = torch.max(outputs.data, 1)\n",
        "            total += labels.size(0)\n",
        "            correct += (predicted == labels).sum().item()\n",
        "\n",
        "    accuracy = 100 * correct / total\n",
        "    print(f'Accuracy: {accuracy:.2f}%')\n",
        "    return accuracy"
      ],
      "metadata": {
        "execution": {
          "iopub.status.busy": "2024-03-29T18:45:59.715631Z",
          "iopub.execute_input": "2024-03-29T18:45:59.716243Z",
          "iopub.status.idle": "2024-03-29T18:45:59.722885Z",
          "shell.execute_reply.started": "2024-03-29T18:45:59.716213Z",
          "shell.execute_reply": "2024-03-29T18:45:59.721870Z"
        },
        "trusted": true,
        "id": "nyr6e5llI_Tw"
      },
      "execution_count": null,
      "outputs": []
    },
    {
      "cell_type": "markdown",
      "source": [
        "### Results"
      ],
      "metadata": {
        "id": "Roq-EToZI_Tw"
      }
    },
    {
      "cell_type": "code",
      "source": [
        "accuracy_svhn = test_model(model, test_loader_svhn)\n",
        "accuracy_mnist = test_model(model, test_loader_mnist)"
      ],
      "metadata": {
        "execution": {
          "iopub.status.busy": "2024-03-29T18:46:03.782210Z",
          "iopub.execute_input": "2024-03-29T18:46:03.782899Z",
          "iopub.status.idle": "2024-03-29T18:47:11.993907Z",
          "shell.execute_reply.started": "2024-03-29T18:46:03.782872Z",
          "shell.execute_reply": "2024-03-29T18:47:11.992766Z"
        },
        "trusted": true,
        "id": "ODDWSfwrI_Tx",
        "outputId": "c834113c-1ec5-44a2-c3d3-e10224473bce"
      },
      "execution_count": null,
      "outputs": [
        {
          "name": "stdout",
          "text": "Accuracy: 93.99%\nAccuracy: 75.62%\n",
          "output_type": "stream"
        }
      ]
    }
  ]
}