{
  "metadata": {
    "kernelspec": {
      "display_name": "Python 3",
      "name": "python3"
    },
    "language_info": {
      "name": "python",
      "version": "3.10.13",
      "mimetype": "text/x-python",
      "codemirror_mode": {
        "name": "ipython",
        "version": 3
      },
      "pygments_lexer": "ipython3",
      "nbconvert_exporter": "python",
      "file_extension": ".py"
    },
    "kaggle": {
      "accelerator": "gpu",
      "dataSources": [],
      "dockerImageVersionId": 30674,
      "isInternetEnabled": true,
      "language": "python",
      "sourceType": "notebook",
      "isGpuEnabled": true
    },
    "colab": {
      "provenance": [],
      "gpuType": "T4"
    },
    "accelerator": "GPU"
  },
  "nbformat_minor": 0,
  "nbformat": 4,
  "cells": [
    {
      "cell_type": "markdown",
      "source": [
        "### Import required libraries"
      ],
      "metadata": {
        "id": "w7jbhBRaiZkS"
      }
    },
    {
      "cell_type": "code",
      "source": [
        "import torch\n",
        "import torch.nn as nn\n",
        "import torch.nn.functional as F\n",
        "import torchvision\n",
        "import torchvision.transforms as transforms\n",
        "from typing import Type, List\n",
        "from torch.utils.data import DataLoader\n",
        "from torchvision.datasets import SVHN, MNIST\n",
        "import matplotlib.pyplot as plt\n",
        "from torchvision.transforms import Compose, RandomAffine, Grayscale, ToTensor, Normalize, Resize, RandomRotation"
      ],
      "metadata": {
        "execution": {
          "iopub.status.busy": "2024-03-29T12:00:02.793877Z",
          "iopub.execute_input": "2024-03-29T12:00:02.794882Z",
          "iopub.status.idle": "2024-03-29T12:00:02.801908Z",
          "shell.execute_reply.started": "2024-03-29T12:00:02.794844Z",
          "shell.execute_reply": "2024-03-29T12:00:02.800829Z"
        },
        "trusted": true,
        "id": "Dn2P0ySWiZkU"
      },
      "execution_count": null,
      "outputs": []
    },
    {
      "cell_type": "markdown",
      "source": [
        "### ResNet"
      ],
      "metadata": {
        "id": "4Yts0MMFiZkW"
      }
    },
    {
      "cell_type": "code",
      "source": [
        "class BasicBlock(nn.Module):\n",
        "    expansion = 1\n",
        "\n",
        "    def __init__(self, in_channels, out_channels, stride=1, downsample=None):\n",
        "        super(BasicBlock, self).__init__()\n",
        "        self.conv1 = nn.Conv2d(in_channels, out_channels, kernel_size=3, stride=stride, padding=1, bias=False)\n",
        "        self.bn1 = nn.BatchNorm2d(out_channels)\n",
        "        self.relu = nn.ReLU(inplace=True)\n",
        "        self.conv2 = nn.Conv2d(out_channels, out_channels * self.expansion, kernel_size=3, stride=1, padding=1, bias=False)\n",
        "        self.bn2 = nn.BatchNorm2d(out_channels * self.expansion)\n",
        "        self.downsample = downsample\n",
        "\n",
        "    def forward(self, x):\n",
        "        identity = x if self.downsample is None else self.downsample(x)\n",
        "\n",
        "        out = self.conv1(x)\n",
        "        out = self.bn1(out)\n",
        "        out = self.relu(out)\n",
        "        out = self.conv2(out)\n",
        "        out = self.bn2(out)\n",
        "\n",
        "        out += identity\n",
        "        out = self.relu(out)\n",
        "        return out"
      ],
      "metadata": {
        "execution": {
          "iopub.status.busy": "2024-03-29T11:59:40.722209Z",
          "iopub.execute_input": "2024-03-29T11:59:40.723311Z",
          "iopub.status.idle": "2024-03-29T11:59:40.732166Z",
          "shell.execute_reply.started": "2024-03-29T11:59:40.723278Z",
          "shell.execute_reply": "2024-03-29T11:59:40.731095Z"
        },
        "trusted": true,
        "id": "TtBEkOldiZkW"
      },
      "execution_count": null,
      "outputs": []
    },
    {
      "cell_type": "code",
      "source": [
        "class ResNet(nn.Module):\n",
        "    def __init__(self, block: Type[BasicBlock], layers: List[int], num_classes: int = 10, img_channels: int = 3):\n",
        "        super(ResNet, self).__init__()\n",
        "        self.in_channels = 64\n",
        "        self.conv1 = nn.Conv2d(img_channels, 64, kernel_size=7, stride=2, padding=3, bias=False)\n",
        "        self.bn1 = nn.BatchNorm2d(64)\n",
        "        self.relu = nn.ReLU(inplace=True)\n",
        "        self.maxpool = nn.MaxPool2d(kernel_size=3, stride=2, padding=1)\n",
        "\n",
        "        self.layer1 = self._make_layer(block, 64, layers[0])\n",
        "        self.layer2 = self._make_layer(block, 128, layers[1], stride=2)\n",
        "        self.layer3 = self._make_layer(block, 256, layers[2], stride=2)\n",
        "        self.layer4 = self._make_layer(block, 512, layers[3], stride=2)\n",
        "\n",
        "        self.avgpool = nn.AdaptiveAvgPool2d((1, 1))\n",
        "        self.fc = nn.Linear(512 * block.expansion, num_classes)\n",
        "\n",
        "    def _make_layer(self, block, out_channels, blocks, stride=1):\n",
        "        downsample = None\n",
        "        if stride != 1 or self.in_channels != out_channels * block.expansion:\n",
        "            downsample = nn.Sequential(\n",
        "                nn.Conv2d(self.in_channels, out_channels * block.expansion, kernel_size=1, stride=stride, bias=False),\n",
        "                nn.BatchNorm2d(out_channels * block.expansion),\n",
        "            )\n",
        "\n",
        "        layers = [block(self.in_channels, out_channels, stride, downsample)]\n",
        "        self.in_channels = out_channels * block.expansion\n",
        "        for _ in range(1, blocks):\n",
        "            layers.append(block(self.in_channels, out_channels))\n",
        "\n",
        "        return nn.Sequential(*layers)\n",
        "\n",
        "    def forward(self, x):\n",
        "        x = self.conv1(x)\n",
        "        x = self.bn1(x)\n",
        "        x = self.relu(x)\n",
        "        x = self.maxpool(x)\n",
        "\n",
        "        x = self.layer1(x)\n",
        "        x = self.layer2(x)\n",
        "        x = self.layer3(x)\n",
        "        x = self.layer4(x)\n",
        "\n",
        "        x = self.avgpool(x)\n",
        "        x = torch.flatten(x, 1)\n",
        "        x = self.fc(x)\n",
        "        return x"
      ],
      "metadata": {
        "execution": {
          "iopub.status.busy": "2024-03-29T11:59:42.757225Z",
          "iopub.execute_input": "2024-03-29T11:59:42.758036Z",
          "iopub.status.idle": "2024-03-29T11:59:42.771274Z",
          "shell.execute_reply.started": "2024-03-29T11:59:42.758006Z",
          "shell.execute_reply": "2024-03-29T11:59:42.770237Z"
        },
        "trusted": true,
        "id": "3QXNadCOiZkX"
      },
      "execution_count": null,
      "outputs": []
    },
    {
      "cell_type": "markdown",
      "source": [
        "### Base transformation - DataAug"
      ],
      "metadata": {
        "id": "oPv8vhfAiZkY"
      }
    },
    {
      "cell_type": "code",
      "source": [
        "transform_svhn = Compose([\n",
        "    RandomRotation(degrees=15),\n",
        "    ToTensor(),\n",
        "    Normalize(mean=[0.4377, 0.4438, 0.4728], std=[0.1201, 0.1231, 0.1052]),\n",
        "])\n",
        "\n",
        "\n",
        "transform_mnist = Compose([\n",
        "    Resize((32,32)),\n",
        "    RandomAffine(degrees=10, translate=(0.1, 0.1), scale=(0.9, 1.1)),\n",
        "    Grayscale(num_output_channels=3),\n",
        "    ToTensor(),\n",
        "    Normalize(mean=[0.1307, 0.1307, 0.1307], std=[0.3015, 0.3015, 0.3015])\n",
        "])\n"
      ],
      "metadata": {
        "execution": {
          "iopub.status.busy": "2024-03-29T12:00:06.949279Z",
          "iopub.execute_input": "2024-03-29T12:00:06.949649Z",
          "iopub.status.idle": "2024-03-29T12:00:06.957389Z",
          "shell.execute_reply.started": "2024-03-29T12:00:06.949618Z",
          "shell.execute_reply": "2024-03-29T12:00:06.956379Z"
        },
        "trusted": true,
        "id": "TtzVsBSaiZkY"
      },
      "execution_count": null,
      "outputs": []
    },
    {
      "cell_type": "markdown",
      "source": [
        "### loading datasets"
      ],
      "metadata": {
        "id": "z-7LH0XJiZkY"
      }
    },
    {
      "cell_type": "code",
      "source": [
        "train_dataset_svhn = SVHN(root='./data', split='train', download=True, transform=transform_svhn)\n",
        "test_dataset_svhn = SVHN(root='./data', split='test', download=True, transform=transform_svhn)\n",
        "\n",
        "train_loader_svhn = DataLoader(dataset=train_dataset_svhn, batch_size=16, shuffle=True, num_workers=2)\n",
        "test_loader_svhn = DataLoader(dataset=test_dataset_svhn, batch_size=16, shuffle=False, num_workers=2)\n",
        "\n",
        "train_dataset_mnist = MNIST(root='./data', train=True, download=True, transform=transform_mnist)\n",
        "test_dataset_mnist = MNIST(root='./data', train=False, download=True, transform=transform_mnist)\n",
        "\n",
        "train_loader_mnist = DataLoader(dataset=train_dataset_mnist, batch_size=16, shuffle=True, num_workers=2)\n",
        "test_loader_mnist = DataLoader(dataset=test_dataset_mnist, batch_size=16, shuffle=False, num_workers=2)\n",
        "\n",
        "print(\"Data loaders have been created.\")"
      ],
      "metadata": {
        "execution": {
          "iopub.status.busy": "2024-03-29T12:00:11.747251Z",
          "iopub.execute_input": "2024-03-29T12:00:11.748340Z",
          "iopub.status.idle": "2024-03-29T12:00:51.738504Z",
          "shell.execute_reply.started": "2024-03-29T12:00:11.748306Z",
          "shell.execute_reply": "2024-03-29T12:00:51.737516Z"
        },
        "trusted": true,
        "colab": {
          "base_uri": "https://localhost:8080/"
        },
        "id": "c_HwnMTriZkY",
        "outputId": "6b1260db-6495-4dfc-e6f8-5d06200770f2"
      },
      "execution_count": null,
      "outputs": [
        {
          "output_type": "stream",
          "name": "stdout",
          "text": [
            "Using downloaded and verified file: ./data/train_32x32.mat\n",
            "Downloading http://ufldl.stanford.edu/housenumbers/test_32x32.mat to ./data/test_32x32.mat\n"
          ]
        },
        {
          "output_type": "stream",
          "name": "stderr",
          "text": [
            "100%|██████████| 64275384/64275384 [00:09<00:00, 6558692.10it/s]\n"
          ]
        },
        {
          "output_type": "stream",
          "name": "stdout",
          "text": [
            "Downloading http://yann.lecun.com/exdb/mnist/train-images-idx3-ubyte.gz\n",
            "Downloading http://yann.lecun.com/exdb/mnist/train-images-idx3-ubyte.gz to ./data/MNIST/raw/train-images-idx3-ubyte.gz\n"
          ]
        },
        {
          "output_type": "stream",
          "name": "stderr",
          "text": [
            "100%|██████████| 9912422/9912422 [00:00<00:00, 154751568.87it/s]"
          ]
        },
        {
          "output_type": "stream",
          "name": "stdout",
          "text": [
            "Extracting ./data/MNIST/raw/train-images-idx3-ubyte.gz to ./data/MNIST/raw\n"
          ]
        },
        {
          "output_type": "stream",
          "name": "stderr",
          "text": [
            "\n"
          ]
        },
        {
          "output_type": "stream",
          "name": "stdout",
          "text": [
            "\n",
            "Downloading http://yann.lecun.com/exdb/mnist/train-labels-idx1-ubyte.gz\n",
            "Downloading http://yann.lecun.com/exdb/mnist/train-labels-idx1-ubyte.gz to ./data/MNIST/raw/train-labels-idx1-ubyte.gz\n"
          ]
        },
        {
          "output_type": "stream",
          "name": "stderr",
          "text": [
            "100%|██████████| 28881/28881 [00:00<00:00, 43589670.32it/s]\n"
          ]
        },
        {
          "output_type": "stream",
          "name": "stdout",
          "text": [
            "Extracting ./data/MNIST/raw/train-labels-idx1-ubyte.gz to ./data/MNIST/raw\n",
            "\n",
            "Downloading http://yann.lecun.com/exdb/mnist/t10k-images-idx3-ubyte.gz\n",
            "Downloading http://yann.lecun.com/exdb/mnist/t10k-images-idx3-ubyte.gz to ./data/MNIST/raw/t10k-images-idx3-ubyte.gz\n"
          ]
        },
        {
          "output_type": "stream",
          "name": "stderr",
          "text": [
            "100%|██████████| 1648877/1648877 [00:00<00:00, 56877381.07it/s]"
          ]
        },
        {
          "output_type": "stream",
          "name": "stdout",
          "text": [
            "Extracting ./data/MNIST/raw/t10k-images-idx3-ubyte.gz to ./data/MNIST/raw\n"
          ]
        },
        {
          "output_type": "stream",
          "name": "stderr",
          "text": [
            "\n"
          ]
        },
        {
          "output_type": "stream",
          "name": "stdout",
          "text": [
            "\n",
            "Downloading http://yann.lecun.com/exdb/mnist/t10k-labels-idx1-ubyte.gz\n",
            "Downloading http://yann.lecun.com/exdb/mnist/t10k-labels-idx1-ubyte.gz to ./data/MNIST/raw/t10k-labels-idx1-ubyte.gz\n"
          ]
        },
        {
          "output_type": "stream",
          "name": "stderr",
          "text": [
            "100%|██████████| 4542/4542 [00:00<00:00, 22924824.03it/s]\n"
          ]
        },
        {
          "output_type": "stream",
          "name": "stdout",
          "text": [
            "Extracting ./data/MNIST/raw/t10k-labels-idx1-ubyte.gz to ./data/MNIST/raw\n",
            "\n",
            "Data loaders have been created.\n"
          ]
        }
      ]
    },
    {
      "cell_type": "markdown",
      "source": [
        "### importing criterion and optimizer ,..."
      ],
      "metadata": {
        "id": "7711Dqk4iZkZ"
      }
    },
    {
      "cell_type": "code",
      "source": [
        "device = torch.device('cuda' if torch.cuda.is_available() else 'cpu')\n",
        "model = ResNet(block=BasicBlock, layers=[2, 2, 2, 2], num_classes=10, img_channels=3 )\n",
        "model.to(device)\n",
        "criterion = nn.CrossEntropyLoss()\n",
        "optimizer = torch.optim.SGD(model.parameters(), lr=0.001, momentum=0.9)"
      ],
      "metadata": {
        "execution": {
          "iopub.status.busy": "2024-03-29T12:03:47.396115Z",
          "iopub.execute_input": "2024-03-29T12:03:47.396866Z",
          "iopub.status.idle": "2024-03-29T12:03:47.727555Z",
          "shell.execute_reply.started": "2024-03-29T12:03:47.396836Z",
          "shell.execute_reply": "2024-03-29T12:03:47.726805Z"
        },
        "trusted": true,
        "id": "wfrxsiS3iZkZ"
      },
      "execution_count": null,
      "outputs": []
    },
    {
      "cell_type": "markdown",
      "source": [
        "### Training"
      ],
      "metadata": {
        "id": "49ZSlnEtiZkZ"
      }
    },
    {
      "cell_type": "code",
      "source": [
        "num_epochs = 10\n",
        "losses = []\n",
        "\n",
        "for epoch in range(num_epochs):\n",
        "    model.train()\n",
        "    running_loss = 0.0\n",
        "    for images, labels in train_loader_svhn:\n",
        "        images, labels = images.to(device), labels.to(device)\n",
        "\n",
        "        optimizer.zero_grad()\n",
        "        outputs = model(images)\n",
        "        loss = criterion(outputs, labels)\n",
        "        loss.backward()\n",
        "        optimizer.step()\n",
        "\n",
        "        running_loss += loss.item()\n",
        "\n",
        "    epoch_loss = running_loss / len(train_loader_svhn)\n",
        "    losses.append(epoch_loss)\n",
        "    print(f\"Epoch [{epoch+1}/{num_epochs}], Loss: {epoch_loss:.4f}\")"
      ],
      "metadata": {
        "execution": {
          "iopub.status.busy": "2024-03-29T12:03:51.176001Z",
          "iopub.execute_input": "2024-03-29T12:03:51.176806Z",
          "iopub.status.idle": "2024-03-29T12:26:20.852037Z",
          "shell.execute_reply.started": "2024-03-29T12:03:51.176767Z",
          "shell.execute_reply": "2024-03-29T12:26:20.850966Z"
        },
        "trusted": true,
        "colab": {
          "base_uri": "https://localhost:8080/"
        },
        "id": "0q7hhu3uiZka",
        "outputId": "81ea40d5-d024-4634-b46d-7a38359426c3"
      },
      "execution_count": null,
      "outputs": [
        {
          "output_type": "stream",
          "name": "stdout",
          "text": [
            "Epoch [1/10], Loss: 0.8829\n",
            "Epoch [2/10], Loss: 0.4504\n",
            "Epoch [3/10], Loss: 0.3700\n",
            "Epoch [4/10], Loss: 0.3287\n",
            "Epoch [5/10], Loss: 0.2944\n",
            "Epoch [6/10], Loss: 0.2725\n",
            "Epoch [7/10], Loss: 0.2486\n",
            "Epoch [8/10], Loss: 0.2308\n",
            "Epoch [9/10], Loss: 0.2165\n",
            "Epoch [10/10], Loss: 0.2018\n"
          ]
        }
      ]
    },
    {
      "cell_type": "markdown",
      "source": [
        "### plotting the loss"
      ],
      "metadata": {
        "id": "Yyu8V6FniZka"
      }
    },
    {
      "cell_type": "code",
      "source": [
        "plt.figure(figsize=(10, 5))\n",
        "plt.plot(range(1, num_epochs+1), losses, marker='o', color='blue', label='Training Loss')\n",
        "plt.title(\"Training Loss\")\n",
        "plt.xlabel(\"Epoch\")\n",
        "plt.ylabel(\"Loss\")\n",
        "plt.grid(True)\n",
        "plt.legend()\n",
        "plt.show()"
      ],
      "metadata": {
        "execution": {
          "iopub.status.busy": "2024-03-29T12:26:30.174131Z",
          "iopub.execute_input": "2024-03-29T12:26:30.174531Z",
          "iopub.status.idle": "2024-03-29T12:26:30.479578Z",
          "shell.execute_reply.started": "2024-03-29T12:26:30.174500Z",
          "shell.execute_reply": "2024-03-29T12:26:30.478665Z"
        },
        "trusted": true,
        "colab": {
          "base_uri": "https://localhost:8080/",
          "height": 487
        },
        "id": "jmzJZr0biZka",
        "outputId": "95cb5da9-b8f0-40fc-83ea-2906535c7424"
      },
      "execution_count": null,
      "outputs": [
        {
          "output_type": "display_data",
          "data": {
            "text/plain": [
              "<Figure size 1000x500 with 1 Axes>"
            ],
            "image/png": "[encoded data removed]"
          },
          "metadata": {}
        }
      ]
    },
    {
      "cell_type": "markdown",
      "source": [
        "### Defing testing"
      ],
      "metadata": {
        "id": "AFHzmagjiZka"
      }
    },
    {
      "cell_type": "code",
      "source": [
        "def test_model(model, test_loader):\n",
        "    model.eval()\n",
        "    correct = 0\n",
        "    total = 0\n",
        "    with torch.no_grad():\n",
        "        for images, labels in test_loader:\n",
        "            images, labels = images.to(device), labels.to(device)\n",
        "            outputs = model(images)\n",
        "            _, predicted = torch.max(outputs.data, 1)\n",
        "            total += labels.size(0)\n",
        "            correct += (predicted == labels).sum().item()\n",
        "\n",
        "    accuracy = 100 * correct / total\n",
        "    print(f'Accuracy: {accuracy:.2f}%')\n",
        "    return accuracy"
      ],
      "metadata": {
        "execution": {
          "iopub.status.busy": "2024-03-29T12:26:33.420005Z",
          "iopub.execute_input": "2024-03-29T12:26:33.420372Z",
          "iopub.status.idle": "2024-03-29T12:26:33.427547Z",
          "shell.execute_reply.started": "2024-03-29T12:26:33.420344Z",
          "shell.execute_reply": "2024-03-29T12:26:33.426539Z"
        },
        "trusted": true,
        "id": "KbmVk93DiZka"
      },
      "execution_count": null,
      "outputs": []
    },
    {
      "cell_type": "markdown",
      "source": [
        "### Results"
      ],
      "metadata": {
        "id": "ZWXhzl0CiZka"
      }
    },
    {
      "cell_type": "code",
      "source": [
        "accuracy_svhn = test_model(model, test_loader_svhn)\n",
        "accuracy_mnist = test_model(model, test_loader_mnist)"
      ],
      "metadata": {
        "execution": {
          "iopub.status.busy": "2024-03-29T12:26:38.040837Z",
          "iopub.execute_input": "2024-03-29T12:26:38.041605Z",
          "iopub.status.idle": "2024-03-29T12:27:25.907191Z",
          "shell.execute_reply.started": "2024-03-29T12:26:38.041575Z",
          "shell.execute_reply": "2024-03-29T12:27:25.906047Z"
        },
        "trusted": true,
        "colab": {
          "base_uri": "https://localhost:8080/"
        },
        "id": "fpO6uqhXiZka",
        "outputId": "3a0783ef-355e-4cf6-b031-737f6d5542d5"
      },
      "execution_count": null,
      "outputs": [
        {
          "output_type": "stream",
          "name": "stdout",
          "text": [
            "Accuracy: 91.67%\n",
            "Accuracy: 66.89%\n"
          ]
        }
      ]
    }
  ]
}