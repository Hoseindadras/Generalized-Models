{
  "metadata": {
    "kernelspec": {
      "language": "python",
      "display_name": "Python 3",
      "name": "python3"
    },
    "language_info": {
      "name": "python",
      "version": "3.10.13",
      "mimetype": "text/x-python",
      "codemirror_mode": {
        "name": "ipython",
        "version": 3
      },
      "pygments_lexer": "ipython3",
      "nbconvert_exporter": "python",
      "file_extension": ".py"
    },
    "kaggle": {
      "accelerator": "gpu",
      "dataSources": [],
      "dockerImageVersionId": 30674,
      "isInternetEnabled": true,
      "language": "python",
      "sourceType": "notebook",
      "isGpuEnabled": true
    },
    "colab": {
      "provenance": []
    }
  },
  "nbformat_minor": 0,
  "nbformat": 4,
  "cells": [
    {
      "cell_type": "markdown",
      "source": [
        "### Import required libraries"
      ],
      "metadata": {
        "id": "htis7TDpED49"
      }
    },
    {
      "cell_type": "code",
      "source": [
        "import torch\n",
        "import torch.nn as nn\n",
        "import torch.nn.functional as F\n",
        "import torchvision\n",
        "import torchvision.transforms as transforms\n",
        "from typing import Type, List\n",
        "from torch.utils.data import DataLoader\n",
        "from torchvision.datasets import SVHN, MNIST\n",
        "import matplotlib.pyplot as plt\n",
        "from torchvision.transforms import Compose, Resize, RandomApply, ColorJitter, RandomAffine, GaussianBlur, Grayscale, ToTensor, Normalize, RandomErasing, ElasticTransform"
      ],
      "metadata": {
        "execution": {
          "iopub.status.busy": "2024-03-29T11:26:30.975367Z",
          "iopub.execute_input": "2024-03-29T11:26:30.976266Z",
          "iopub.status.idle": "2024-03-29T11:26:37.755550Z",
          "shell.execute_reply.started": "2024-03-29T11:26:30.976230Z",
          "shell.execute_reply": "2024-03-29T11:26:37.754575Z"
        },
        "trusted": true,
        "id": "6NI5IQKvED5C"
      },
      "execution_count": null,
      "outputs": []
    },
    {
      "cell_type": "markdown",
      "source": [
        "### Define BasicBlock"
      ],
      "metadata": {
        "id": "XSfM8mt3ED5F"
      }
    },
    {
      "cell_type": "code",
      "source": [
        "class BasicBlock(nn.Module):\n",
        "    expansion = 1\n",
        "\n",
        "    def __init__(self, in_channels, out_channels, stride=1, downsample=None):\n",
        "        super(BasicBlock, self).__init__()\n",
        "        self.conv1 = nn.Conv2d(in_channels, out_channels, kernel_size=3, stride=stride, padding=1, bias=False)\n",
        "        self.bn1 = nn.BatchNorm2d(out_channels)\n",
        "        self.relu = nn.ReLU(inplace=True)\n",
        "        self.conv2 = nn.Conv2d(out_channels, out_channels * self.expansion, kernel_size=3, stride=1, padding=1, bias=False)\n",
        "        #we can write less computationally with\n",
        "        #self.conv2 = nn.Conv2d(out_channels, out_channels, kernel_size=3, stride=1, padding=1, bias=False)\n",
        "        self.bn2 = nn.BatchNorm2d(out_channels * self.expansion)\n",
        "        #self.bn2 = nn.BatchNorm2d(out_channels)\n",
        "        self.downsample = downsample\n",
        "\n",
        "    def forward(self, x):\n",
        "        identity = x if self.downsample is None else self.downsample(x)\n",
        "\n",
        "        out = self.conv1(x)\n",
        "        out = self.bn1(out)\n",
        "        out = self.relu(out)\n",
        "        out = self.conv2(out)\n",
        "        out = self.bn2(out)\n",
        "\n",
        "        out += identity\n",
        "        out = self.relu(out)\n",
        "        return out"
      ],
      "metadata": {
        "execution": {
          "iopub.status.busy": "2024-03-29T11:26:45.536115Z",
          "iopub.execute_input": "2024-03-29T11:26:45.536739Z",
          "iopub.status.idle": "2024-03-29T11:26:45.545758Z",
          "shell.execute_reply.started": "2024-03-29T11:26:45.536706Z",
          "shell.execute_reply": "2024-03-29T11:26:45.544663Z"
        },
        "trusted": true,
        "id": "ZkT7FqgSED5F"
      },
      "execution_count": null,
      "outputs": []
    },
    {
      "cell_type": "markdown",
      "source": [
        "### ResNet"
      ],
      "metadata": {
        "id": "gMwDHUpBED5G"
      }
    },
    {
      "cell_type": "code",
      "source": [
        "class ResNet(nn.Module):\n",
        "    def __init__(self, block: Type[BasicBlock], layers: List[int], num_classes: int = 10, img_channels: int = 3):\n",
        "        super(ResNet, self).__init__()\n",
        "        self.in_channels = 64\n",
        "        self.conv1 = nn.Conv2d(img_channels, 64, kernel_size=7, stride=2, padding=3, bias=False)\n",
        "        self.bn1 = nn.BatchNorm2d(64)\n",
        "        self.relu = nn.ReLU(inplace=True)\n",
        "        self.maxpool = nn.MaxPool2d(kernel_size=3, stride=2, padding=1)\n",
        "\n",
        "        self.layer1 = self._make_layer(block, 64, layers[0])\n",
        "        self.layer2 = self._make_layer(block, 128, layers[1], stride=2)\n",
        "        self.layer3 = self._make_layer(block, 256, layers[2], stride=2)\n",
        "        self.layer4 = self._make_layer(block, 512, layers[3], stride=2)\n",
        "\n",
        "        self.avgpool = nn.AdaptiveAvgPool2d((1, 1))\n",
        "        self.fc = nn.Linear(512 * block.expansion, num_classes)\n",
        "\n",
        "    def _make_layer(self, block, out_channels, blocks, stride=1):\n",
        "        downsample = None\n",
        "        if stride != 1 or self.in_channels != out_channels * block.expansion:\n",
        "            downsample = nn.Sequential(\n",
        "                nn.Conv2d(self.in_channels, out_channels * block.expansion, kernel_size=1, stride=stride, bias=False),\n",
        "                nn.BatchNorm2d(out_channels * block.expansion),\n",
        "            )\n",
        "\n",
        "        layers = [block(self.in_channels, out_channels, stride, downsample)]\n",
        "        self.in_channels = out_channels * block.expansion\n",
        "        for _ in range(1, blocks):\n",
        "            layers.append(block(self.in_channels, out_channels))\n",
        "\n",
        "        return nn.Sequential(*layers)\n",
        "\n",
        "    def forward(self, x):\n",
        "        x = self.conv1(x)\n",
        "        x = self.bn1(x)\n",
        "        x = self.relu(x)\n",
        "        x = self.maxpool(x)\n",
        "\n",
        "        x = self.layer1(x)\n",
        "        x = self.layer2(x)\n",
        "        x = self.layer3(x)\n",
        "        x = self.layer4(x)\n",
        "\n",
        "        x = self.avgpool(x)\n",
        "        x = torch.flatten(x, 1)\n",
        "        x = self.fc(x)\n",
        "        return x"
      ],
      "metadata": {
        "execution": {
          "iopub.status.busy": "2024-03-29T11:26:48.184890Z",
          "iopub.execute_input": "2024-03-29T11:26:48.185743Z",
          "iopub.status.idle": "2024-03-29T11:26:48.199556Z",
          "shell.execute_reply.started": "2024-03-29T11:26:48.185709Z",
          "shell.execute_reply": "2024-03-29T11:26:48.198602Z"
        },
        "trusted": true,
        "id": "Y7N5Z-pwED5G"
      },
      "execution_count": null,
      "outputs": []
    },
    {
      "cell_type": "markdown",
      "source": [
        "### Base transformation - Data Aug"
      ],
      "metadata": {
        "id": "TTz9F8IjED5H"
      }
    },
    {
      "cell_type": "code",
      "source": [
        "transform_svhn = Compose([\n",
        "    RandomApply([GaussianBlur(kernel_size=3)], p=0.2),\n",
        "    ToTensor(),\n",
        "    Normalize(mean=[0.4377, 0.4438, 0.4728], std=[0.1201, 0.1231, 0.1052])\n",
        "])\n",
        "\n",
        "\n",
        "transform_mnist = Compose([\n",
        "    Resize((32, 32)),\n",
        "    Grayscale(num_output_channels=3),\n",
        "    ToTensor(),\n",
        "    Normalize(mean=[0.1307, 0.1307, 0.1307], std=[0.3015, 0.3015, 0.3015])\n",
        "])\n"
      ],
      "metadata": {
        "execution": {
          "iopub.status.busy": "2024-03-29T11:27:31.775522Z",
          "iopub.execute_input": "2024-03-29T11:27:31.776334Z",
          "iopub.status.idle": "2024-03-29T11:27:31.783381Z",
          "shell.execute_reply.started": "2024-03-29T11:27:31.776303Z",
          "shell.execute_reply": "2024-03-29T11:27:31.782469Z"
        },
        "trusted": true,
        "id": "gi13OY23ED5H"
      },
      "execution_count": null,
      "outputs": []
    },
    {
      "cell_type": "markdown",
      "source": [
        "### loading and loaders"
      ],
      "metadata": {
        "id": "nT8Dos9GED5I"
      }
    },
    {
      "cell_type": "code",
      "source": [
        "# SVHN: Loading Training and Test Sets\n",
        "train_dataset_svhn = SVHN(root='./data', split='train', download=True, transform=transform_svhn)\n",
        "test_dataset_svhn = SVHN(root='./data', split='test', download=True, transform=transform_svhn)\n",
        "\n",
        "train_loader_svhn = DataLoader(dataset=train_dataset_svhn, batch_size=16, shuffle=True, num_workers=2)\n",
        "test_loader_svhn = DataLoader(dataset=test_dataset_svhn, batch_size=16, shuffle=False, num_workers=2)\n",
        "\n",
        "# MNIST: Loading Training and Test Sets\n",
        "train_dataset_mnist = MNIST(root='./data', train=True, download=True, transform=transform_mnist)\n",
        "test_dataset_mnist = MNIST(root='./data', train=False, download=True, transform=transform_mnist)\n",
        "\n",
        "train_loader_mnist = DataLoader(dataset=train_dataset_mnist, batch_size=16, shuffle=True, num_workers=2)\n",
        "test_loader_mnist = DataLoader(dataset=test_dataset_mnist, batch_size=16, shuffle=False, num_workers=2)\n",
        "\n",
        "print(\"Data loaders have been created.\")"
      ],
      "metadata": {
        "execution": {
          "iopub.status.busy": "2024-03-29T11:27:37.610317Z",
          "iopub.execute_input": "2024-03-29T11:27:37.610986Z",
          "iopub.status.idle": "2024-03-29T11:27:48.870346Z",
          "shell.execute_reply.started": "2024-03-29T11:27:37.610956Z",
          "shell.execute_reply": "2024-03-29T11:27:48.869323Z"
        },
        "trusted": true,
        "id": "SztHSISAED5I",
        "outputId": "c71524d8-d90b-499b-eaee-a6f976d2129b"
      },
      "execution_count": null,
      "outputs": [
        {
          "name": "stdout",
          "text": "Downloading http://ufldl.stanford.edu/housenumbers/train_32x32.mat to ./data/train_32x32.mat\n",
          "output_type": "stream"
        },
        {
          "name": "stderr",
          "text": "100%|██████████| 182040794/182040794 [00:02<00:00, 75772796.11it/s] \n",
          "output_type": "stream"
        },
        {
          "name": "stdout",
          "text": "Downloading http://ufldl.stanford.edu/housenumbers/test_32x32.mat to ./data/test_32x32.mat\n",
          "output_type": "stream"
        },
        {
          "name": "stderr",
          "text": "100%|██████████| 64275384/64275384 [00:03<00:00, 17881270.69it/s]\n",
          "output_type": "stream"
        },
        {
          "name": "stdout",
          "text": "Downloading http://yann.lecun.com/exdb/mnist/train-images-idx3-ubyte.gz\nDownloading http://yann.lecun.com/exdb/mnist/train-images-idx3-ubyte.gz to ./data/MNIST/raw/train-images-idx3-ubyte.gz\n",
          "output_type": "stream"
        },
        {
          "name": "stderr",
          "text": "100%|██████████| 9912422/9912422 [00:00<00:00, 40055755.54it/s]\n",
          "output_type": "stream"
        },
        {
          "name": "stdout",
          "text": "Extracting ./data/MNIST/raw/train-images-idx3-ubyte.gz to ./data/MNIST/raw\n\nDownloading http://yann.lecun.com/exdb/mnist/train-labels-idx1-ubyte.gz\nDownloading http://yann.lecun.com/exdb/mnist/train-labels-idx1-ubyte.gz to ./data/MNIST/raw/train-labels-idx1-ubyte.gz\n",
          "output_type": "stream"
        },
        {
          "name": "stderr",
          "text": "100%|██████████| 28881/28881 [00:00<00:00, 46305693.36it/s]",
          "output_type": "stream"
        },
        {
          "name": "stdout",
          "text": "Extracting ./data/MNIST/raw/train-labels-idx1-ubyte.gz to ./data/MNIST/raw\n\nDownloading http://yann.lecun.com/exdb/mnist/t10k-images-idx3-ubyte.gz\n",
          "output_type": "stream"
        },
        {
          "name": "stderr",
          "text": "\n",
          "output_type": "stream"
        },
        {
          "name": "stdout",
          "text": "Downloading http://yann.lecun.com/exdb/mnist/t10k-images-idx3-ubyte.gz to ./data/MNIST/raw/t10k-images-idx3-ubyte.gz\n",
          "output_type": "stream"
        },
        {
          "name": "stderr",
          "text": "100%|██████████| 1648877/1648877 [00:00<00:00, 10056552.85it/s]\n",
          "output_type": "stream"
        },
        {
          "name": "stdout",
          "text": "Extracting ./data/MNIST/raw/t10k-images-idx3-ubyte.gz to ./data/MNIST/raw\n\nDownloading http://yann.lecun.com/exdb/mnist/t10k-labels-idx1-ubyte.gz\nDownloading http://yann.lecun.com/exdb/mnist/t10k-labels-idx1-ubyte.gz to ./data/MNIST/raw/t10k-labels-idx1-ubyte.gz\n",
          "output_type": "stream"
        },
        {
          "name": "stderr",
          "text": "100%|██████████| 4542/4542 [00:00<00:00, 19031497.27it/s]",
          "output_type": "stream"
        },
        {
          "name": "stdout",
          "text": "Extracting ./data/MNIST/raw/t10k-labels-idx1-ubyte.gz to ./data/MNIST/raw\n\nData loaders have been created.\n",
          "output_type": "stream"
        },
        {
          "name": "stderr",
          "text": "\n",
          "output_type": "stream"
        }
      ]
    },
    {
      "cell_type": "markdown",
      "source": [
        "### model - criterion - loss - optimizer"
      ],
      "metadata": {
        "id": "cq0nNfjjED5J"
      }
    },
    {
      "cell_type": "code",
      "source": [
        "device = torch.device('cuda' if torch.cuda.is_available() else 'cpu')\n",
        "model = ResNet(block=BasicBlock, layers=[2, 2, 2, 2], num_classes=10, img_channels=3 )\n",
        "model.to(device)\n",
        "criterion = nn.CrossEntropyLoss()\n",
        "optimizer = torch.optim.SGD(model.parameters(), lr=0.001, momentum=0.9)"
      ],
      "metadata": {
        "execution": {
          "iopub.status.busy": "2024-03-29T11:27:52.815260Z",
          "iopub.execute_input": "2024-03-29T11:27:52.816023Z",
          "iopub.status.idle": "2024-03-29T11:27:53.139338Z",
          "shell.execute_reply.started": "2024-03-29T11:27:52.815990Z",
          "shell.execute_reply": "2024-03-29T11:27:53.138373Z"
        },
        "trusted": true,
        "id": "IgT2U0iJED5K"
      },
      "execution_count": null,
      "outputs": []
    },
    {
      "cell_type": "markdown",
      "source": [
        "### Training"
      ],
      "metadata": {
        "id": "KWmFnoxBED5K"
      }
    },
    {
      "cell_type": "code",
      "source": [
        "num_epochs = 10\n",
        "losses = []\n",
        "\n",
        "for epoch in range(num_epochs):\n",
        "    model.train()\n",
        "    running_loss = 0.0\n",
        "    for images, labels in train_loader_svhn:\n",
        "        images, labels = images.to(device), labels.to(device)\n",
        "\n",
        "        optimizer.zero_grad()\n",
        "        outputs = model(images)\n",
        "        loss = criterion(outputs, labels)\n",
        "        loss.backward()\n",
        "        optimizer.step()\n",
        "\n",
        "        running_loss += loss.item()\n",
        "\n",
        "    epoch_loss = running_loss / len(train_loader_svhn)\n",
        "    losses.append(epoch_loss)\n",
        "    print(f\"Epoch [{epoch+1}/{num_epochs}], Loss: {epoch_loss:.4f}\")"
      ],
      "metadata": {
        "execution": {
          "iopub.status.busy": "2024-03-29T11:27:59.295538Z",
          "iopub.execute_input": "2024-03-29T11:27:59.295890Z",
          "iopub.status.idle": "2024-03-29T11:50:36.014059Z",
          "shell.execute_reply.started": "2024-03-29T11:27:59.295863Z",
          "shell.execute_reply": "2024-03-29T11:50:36.012913Z"
        },
        "trusted": true,
        "id": "SmBMOKlwED5K",
        "outputId": "db80b3c7-4722-4717-f20f-f5d3fd7af1eb"
      },
      "execution_count": null,
      "outputs": [
        {
          "name": "stdout",
          "text": "Epoch [1/10], Loss: 0.8394\nEpoch [2/10], Loss: 0.2586\nEpoch [3/10], Loss: 0.1991\nEpoch [4/10], Loss: 0.1617\nEpoch [5/10], Loss: 0.1293\nEpoch [6/10], Loss: 0.1047\nEpoch [7/10], Loss: 0.0807\nEpoch [8/10], Loss: 0.0598\nEpoch [9/10], Loss: 0.0442\nEpoch [10/10], Loss: 0.0274\n",
          "output_type": "stream"
        }
      ]
    },
    {
      "cell_type": "markdown",
      "source": [
        "### plotting the loss"
      ],
      "metadata": {
        "id": "5QWjxGEBED5K"
      }
    },
    {
      "cell_type": "code",
      "source": [
        "plt.figure(figsize=(10, 5))\n",
        "plt.plot(range(1, num_epochs+1), losses, marker='o', color='blue', label='Training Loss')\n",
        "plt.title(\"Training Loss\")\n",
        "plt.xlabel(\"Epoch\")\n",
        "plt.ylabel(\"Loss\")\n",
        "plt.grid(True)\n",
        "plt.legend()\n",
        "plt.show()"
      ],
      "metadata": {
        "execution": {
          "iopub.status.busy": "2024-03-29T11:55:06.682011Z",
          "iopub.execute_input": "2024-03-29T11:55:06.682427Z",
          "iopub.status.idle": "2024-03-29T11:55:07.037034Z",
          "shell.execute_reply.started": "2024-03-29T11:55:06.682391Z",
          "shell.execute_reply": "2024-03-29T11:55:07.036118Z"
        },
        "trusted": true,
        "id": "3Tk4A6kwED5L",
        "outputId": "3a373009-3cce-41f1-d489-3d19b5ce58cc"
      },
      "execution_count": null,
      "outputs": [
        {
          "output_type": "display_data",
          "data": {
            "text/plain": "<Figure size 1000x500 with 1 Axes>",
            "image/png": "[encoded data removed]"
          },
          "metadata": {}
        }
      ]
    },
    {
      "cell_type": "markdown",
      "source": [
        "### Testing model"
      ],
      "metadata": {
        "id": "17Syvn8rED5L"
      }
    },
    {
      "cell_type": "code",
      "source": [
        "def test_model(model, test_loader):\n",
        "    model.eval()\n",
        "    correct = 0\n",
        "    total = 0\n",
        "    with torch.no_grad():\n",
        "        for images, labels in test_loader:\n",
        "            images, labels = images.to(device), labels.to(device)\n",
        "            outputs = model(images)\n",
        "            _, predicted = torch.max(outputs.data, 1)\n",
        "            total += labels.size(0)\n",
        "            correct += (predicted == labels).sum().item()\n",
        "\n",
        "    accuracy = 100 * correct / total\n",
        "    print(f'Accuracy: {accuracy:.2f}%')\n",
        "    return accuracy"
      ],
      "metadata": {
        "execution": {
          "iopub.status.busy": "2024-03-29T11:55:11.298285Z",
          "iopub.execute_input": "2024-03-29T11:55:11.299032Z",
          "iopub.status.idle": "2024-03-29T11:55:11.305364Z",
          "shell.execute_reply.started": "2024-03-29T11:55:11.299000Z",
          "shell.execute_reply": "2024-03-29T11:55:11.304344Z"
        },
        "trusted": true,
        "id": "-B_FCio1ED5L"
      },
      "execution_count": null,
      "outputs": []
    },
    {
      "cell_type": "markdown",
      "source": [
        "### Resulits on Tests"
      ],
      "metadata": {
        "id": "cBEqIp7DED5L"
      }
    },
    {
      "cell_type": "code",
      "source": [
        "accuracy_svhn = test_model(model, test_loader_svhn)\n",
        "accuracy_mnist = test_model(model, test_loader_mnist)"
      ],
      "metadata": {
        "execution": {
          "iopub.status.busy": "2024-03-29T11:55:13.836186Z",
          "iopub.execute_input": "2024-03-29T11:55:13.837071Z",
          "iopub.status.idle": "2024-03-29T11:56:03.446756Z",
          "shell.execute_reply.started": "2024-03-29T11:55:13.837032Z",
          "shell.execute_reply": "2024-03-29T11:56:03.445670Z"
        },
        "trusted": true,
        "id": "GgmaLav5ED5L",
        "outputId": "c61e922f-a4cb-4984-b71e-f2f6a9c4f6e5"
      },
      "execution_count": null,
      "outputs": [
        {
          "name": "stdout",
          "text": "Accuracy: 93.73%\nAccuracy: 59.94%\n",
          "output_type": "stream"
        }
      ]
    }
  ]
}