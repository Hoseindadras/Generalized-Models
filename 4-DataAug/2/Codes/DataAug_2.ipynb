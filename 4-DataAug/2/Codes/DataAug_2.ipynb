{
  "metadata": {
    "kernelspec": {
      "language": "python",
      "display_name": "Python 3",
      "name": "python3"
    },
    "language_info": {
      "name": "python",
      "version": "3.10.13",
      "mimetype": "text/x-python",
      "codemirror_mode": {
        "name": "ipython",
        "version": 3
      },
      "pygments_lexer": "ipython3",
      "nbconvert_exporter": "python",
      "file_extension": ".py"
    },
    "kaggle": {
      "accelerator": "gpu",
      "dataSources": [],
      "dockerImageVersionId": 30674,
      "isInternetEnabled": true,
      "language": "python",
      "sourceType": "notebook",
      "isGpuEnabled": true
    },
    "colab": {
      "provenance": []
    }
  },
  "nbformat_minor": 0,
  "nbformat": 4,
  "cells": [
    {
      "cell_type": "markdown",
      "source": [
        "### Import required libraries"
      ],
      "metadata": {
        "id": "ujlPodeiIdf3"
      }
    },
    {
      "cell_type": "code",
      "source": [
        "import torch\n",
        "import torch.nn as nn\n",
        "import torch.nn.functional as F\n",
        "import torchvision\n",
        "import torchvision.transforms as transforms\n",
        "from typing import Type, List\n",
        "from torch.utils.data import DataLoader\n",
        "from torchvision.datasets import SVHN, MNIST\n",
        "import matplotlib.pyplot as plt\n",
        "from torchvision.transforms import Compose, Resize, RandomApply, ColorJitter, RandomAffine, GaussianBlur, Grayscale, ToTensor, Normalize"
      ],
      "metadata": {
        "execution": {
          "iopub.status.busy": "2024-03-29T14:58:58.207827Z",
          "iopub.execute_input": "2024-03-29T14:58:58.208533Z",
          "iopub.status.idle": "2024-03-29T14:59:05.269906Z",
          "shell.execute_reply.started": "2024-03-29T14:58:58.208500Z",
          "shell.execute_reply": "2024-03-29T14:59:05.268959Z"
        },
        "trusted": true,
        "id": "3AZgR_rnIdf7"
      },
      "execution_count": null,
      "outputs": []
    },
    {
      "cell_type": "markdown",
      "source": [
        "### Define BasicBlock"
      ],
      "metadata": {
        "id": "S44umjRpIdf9"
      }
    },
    {
      "cell_type": "code",
      "source": [
        "class BasicBlock(nn.Module):\n",
        "    expansion = 1\n",
        "\n",
        "    def __init__(self, in_channels, out_channels, stride=1, downsample=None, dropout_rate=0.0):\n",
        "        super(BasicBlock, self).__init__()\n",
        "        self.conv1 = nn.Conv2d(in_channels, out_channels, kernel_size=3, stride=stride, padding=1, bias=False)\n",
        "        self.bn1 = nn.BatchNorm2d(out_channels)\n",
        "        self.relu = nn.ReLU(inplace=True)\n",
        "        self.dropout = nn.Dropout2d(dropout_rate)\n",
        "        self.conv2 = nn.Conv2d(out_channels, out_channels * self.expansion, kernel_size=3, stride=1, padding=1, bias=False)\n",
        "        self.bn2 = nn.BatchNorm2d(out_channels * self.expansion)\n",
        "        self.downsample = downsample\n",
        "\n",
        "    def forward(self, x):\n",
        "        identity = x if self.downsample is None else self.downsample(x)\n",
        "\n",
        "        out = self.conv1(x)\n",
        "        out = self.bn1(out)\n",
        "        out = self.relu(out)\n",
        "        out = self.dropout(out)\n",
        "        out = self.conv2(out)\n",
        "        out = self.bn2(out)\n",
        "\n",
        "        if self.downsample is not None:\n",
        "            identity = self.downsample(x)\n",
        "\n",
        "        out += identity\n",
        "        out = self.relu(out)\n",
        "        return out\n",
        "\n"
      ],
      "metadata": {
        "execution": {
          "iopub.status.busy": "2024-03-29T14:59:07.122372Z",
          "iopub.execute_input": "2024-03-29T14:59:07.123685Z",
          "iopub.status.idle": "2024-03-29T14:59:07.134390Z",
          "shell.execute_reply.started": "2024-03-29T14:59:07.123636Z",
          "shell.execute_reply": "2024-03-29T14:59:07.133228Z"
        },
        "trusted": true,
        "id": "BpnlC6KQIdgB"
      },
      "execution_count": null,
      "outputs": []
    },
    {
      "cell_type": "markdown",
      "source": [
        "### ResNet"
      ],
      "metadata": {
        "id": "dte0lHNHIdgC"
      }
    },
    {
      "cell_type": "code",
      "source": [
        "class ResNet(nn.Module):\n",
        "    def __init__(self, block: Type[BasicBlock], layers: List[int], num_classes: int = 10, img_channels: int = 3, dropout_rate=0.5):\n",
        "        super(ResNet, self).__init__()\n",
        "        self.in_channels = 64\n",
        "        self.conv1 = nn.Conv2d(img_channels, 64, kernel_size=7, stride=2, padding=3, bias=False)\n",
        "        self.bn1 = nn.BatchNorm2d(64)\n",
        "        self.relu = nn.ReLU(inplace=True)\n",
        "        self.maxpool = nn.MaxPool2d(kernel_size=3, stride=2, padding=1)\n",
        "\n",
        "        self.layer1 = self._make_layer(block, 64, layers[0], dropout_rate=dropout_rate)\n",
        "        self.layer2 = self._make_layer(block, 128, layers[1], stride=2, dropout_rate=dropout_rate)\n",
        "        self.layer3 = self._make_layer(block, 256, layers[2], stride=2, dropout_rate=dropout_rate)\n",
        "        self.layer4 = self._make_layer(block, 512, layers[3], stride=2, dropout_rate=dropout_rate)\n",
        "\n",
        "        self.avgpool = nn.AdaptiveAvgPool2d((1, 1))\n",
        "        self.dropout = nn.Dropout(dropout_rate)\n",
        "        self.fc = nn.Linear(512 * block.expansion, num_classes)\n",
        "\n",
        "    def _make_layer(self, block, out_channels, blocks, stride=1, dropout_rate=0.0):\n",
        "        downsample = None\n",
        "        if stride != 1 or self.in_channels != out_channels * block.expansion:\n",
        "            downsample = nn.Sequential(\n",
        "                nn.Conv2d(self.in_channels, out_channels * block.expansion, kernel_size=1, stride=stride, bias=False),\n",
        "                nn.BatchNorm2d(out_channels * block.expansion),\n",
        "            )\n",
        "\n",
        "        layers = [block(self.in_channels, out_channels, stride, downsample, dropout_rate=dropout_rate)]\n",
        "        self.in_channels = out_channels * block.expansion\n",
        "        for _ in range(1, blocks):\n",
        "            layers.append(block(self.in_channels, out_channels, dropout_rate=dropout_rate))\n",
        "\n",
        "        return nn.Sequential(*layers)\n",
        "\n",
        "    def forward(self, x):\n",
        "        x = self.conv1(x)\n",
        "        x = self.bn1(x)\n",
        "        x = self.relu(x)\n",
        "        x = self.maxpool(x)\n",
        "\n",
        "        x = self.layer1(x)\n",
        "        x = self.layer2(x)\n",
        "        x = self.layer3(x)\n",
        "        x = self.layer4(x)\n",
        "\n",
        "        x = self.avgpool(x)\n",
        "        x = torch.flatten(x, 1)\n",
        "        x = self.dropout(x)\n",
        "        x = self.fc(x)\n",
        "        return x"
      ],
      "metadata": {
        "execution": {
          "iopub.status.busy": "2024-03-29T14:59:08.603599Z",
          "iopub.execute_input": "2024-03-29T14:59:08.604328Z",
          "iopub.status.idle": "2024-03-29T14:59:08.622539Z",
          "shell.execute_reply.started": "2024-03-29T14:59:08.604295Z",
          "shell.execute_reply": "2024-03-29T14:59:08.620968Z"
        },
        "trusted": true,
        "id": "6f6JD8soIdgC"
      },
      "execution_count": null,
      "outputs": []
    },
    {
      "cell_type": "markdown",
      "source": [
        "### Base transformation - Data Aug"
      ],
      "metadata": {
        "id": "v30l2vLHIdgD"
      }
    },
    {
      "cell_type": "code",
      "source": [
        "transform_svhn = Compose([\n",
        "    RandomApply([ColorJitter(brightness=0.5, contrast=0.5)], p=0.3),\n",
        "    RandomAffine(degrees=10, translate=(0.1, 0.1), scale=(0.9, 1.1)),\n",
        "    RandomApply([GaussianBlur(kernel_size=3)], p=0.2),\n",
        "    Grayscale(num_output_channels=3),\n",
        "    ToTensor(),\n",
        "    Normalize(mean=[0.4377, 0.4438, 0.4728], std=[0.1201, 0.1231, 0.1052])\n",
        "])\n",
        "\n",
        "\n",
        "transform_mnist = Compose([\n",
        "    Resize((32,32)),\n",
        "    RandomAffine(degrees=10, translate=(0.1, 0.1), scale=(0.9, 1.1)),\n",
        "    Grayscale(num_output_channels=3),\n",
        "    ToTensor(),\n",
        "    Normalize(mean=[0.1307, 0.1307, 0.1307], std=[0.3015, 0.3015, 0.3015])\n",
        "])"
      ],
      "metadata": {
        "execution": {
          "iopub.status.busy": "2024-03-29T14:59:09.995386Z",
          "iopub.execute_input": "2024-03-29T14:59:09.996145Z",
          "iopub.status.idle": "2024-03-29T14:59:10.005793Z",
          "shell.execute_reply.started": "2024-03-29T14:59:09.996108Z",
          "shell.execute_reply": "2024-03-29T14:59:10.004617Z"
        },
        "trusted": true,
        "id": "k0nvUcD3IdgD"
      },
      "execution_count": null,
      "outputs": []
    },
    {
      "cell_type": "markdown",
      "source": [
        "### loading the loaders"
      ],
      "metadata": {
        "id": "Cr7wmm5lIdgE"
      }
    },
    {
      "cell_type": "code",
      "source": [
        "# SVHN: Loading Training and Test Sets\n",
        "train_dataset_svhn = SVHN(root='./data', split='train', download=True, transform=transform_svhn)\n",
        "test_dataset_svhn = SVHN(root='./data', split='test', download=True, transform=transform_svhn)\n",
        "\n",
        "train_loader_svhn = DataLoader(dataset=train_dataset_svhn, batch_size=16, shuffle=True, num_workers=2)\n",
        "test_loader_svhn = DataLoader(dataset=test_dataset_svhn, batch_size=16, shuffle=False, num_workers=2)\n",
        "\n",
        "# MNIST: Loading Training and Test Sets\n",
        "train_dataset_mnist = MNIST(root='./data', train=True, download=True, transform=transform_mnist)\n",
        "test_dataset_mnist = MNIST(root='./data', train=False, download=True, transform=transform_mnist)\n",
        "\n",
        "train_loader_mnist = DataLoader(dataset=train_dataset_mnist, batch_size=16, shuffle=True, num_workers=2)\n",
        "test_loader_mnist = DataLoader(dataset=test_dataset_mnist, batch_size=16, shuffle=False, num_workers=2)\n",
        "\n",
        "print(\"Data loaders have been created.\")"
      ],
      "metadata": {
        "execution": {
          "iopub.status.busy": "2024-03-29T14:59:11.306903Z",
          "iopub.execute_input": "2024-03-29T14:59:11.307289Z",
          "iopub.status.idle": "2024-03-29T14:59:42.354550Z",
          "shell.execute_reply.started": "2024-03-29T14:59:11.307245Z",
          "shell.execute_reply": "2024-03-29T14:59:42.353360Z"
        },
        "trusted": true,
        "id": "-iBo1qABIdgE",
        "outputId": "7eb6f375-fd9b-4311-c998-5abeb6e30515"
      },
      "execution_count": null,
      "outputs": [
        {
          "name": "stdout",
          "text": "Downloading http://ufldl.stanford.edu/housenumbers/train_32x32.mat to ./data/train_32x32.mat\n",
          "output_type": "stream"
        },
        {
          "name": "stderr",
          "text": "100%|██████████| 182040794/182040794 [00:12<00:00, 14917286.46it/s]\n",
          "output_type": "stream"
        },
        {
          "name": "stdout",
          "text": "Downloading http://ufldl.stanford.edu/housenumbers/test_32x32.mat to ./data/test_32x32.mat\n",
          "output_type": "stream"
        },
        {
          "name": "stderr",
          "text": "100%|██████████| 64275384/64275384 [00:13<00:00, 4851946.09it/s]\n",
          "output_type": "stream"
        },
        {
          "name": "stdout",
          "text": "Downloading http://yann.lecun.com/exdb/mnist/train-images-idx3-ubyte.gz\nDownloading http://yann.lecun.com/exdb/mnist/train-images-idx3-ubyte.gz to ./data/MNIST/raw/train-images-idx3-ubyte.gz\n",
          "output_type": "stream"
        },
        {
          "name": "stderr",
          "text": "100%|██████████| 9912422/9912422 [00:00<00:00, 94131909.76it/s]\n",
          "output_type": "stream"
        },
        {
          "name": "stdout",
          "text": "Extracting ./data/MNIST/raw/train-images-idx3-ubyte.gz to ./data/MNIST/raw\n\nDownloading http://yann.lecun.com/exdb/mnist/train-labels-idx1-ubyte.gz\nDownloading http://yann.lecun.com/exdb/mnist/train-labels-idx1-ubyte.gz to ./data/MNIST/raw/train-labels-idx1-ubyte.gz\n",
          "output_type": "stream"
        },
        {
          "name": "stderr",
          "text": "100%|██████████| 28881/28881 [00:00<00:00, 37866737.68it/s]\n",
          "output_type": "stream"
        },
        {
          "name": "stdout",
          "text": "Extracting ./data/MNIST/raw/train-labels-idx1-ubyte.gz to ./data/MNIST/raw\n\nDownloading http://yann.lecun.com/exdb/mnist/t10k-images-idx3-ubyte.gz\nDownloading http://yann.lecun.com/exdb/mnist/t10k-images-idx3-ubyte.gz to ./data/MNIST/raw/t10k-images-idx3-ubyte.gz\n",
          "output_type": "stream"
        },
        {
          "name": "stderr",
          "text": "100%|██████████| 1648877/1648877 [00:00<00:00, 25489607.91it/s]\n",
          "output_type": "stream"
        },
        {
          "name": "stdout",
          "text": "Extracting ./data/MNIST/raw/t10k-images-idx3-ubyte.gz to ./data/MNIST/raw\n\nDownloading http://yann.lecun.com/exdb/mnist/t10k-labels-idx1-ubyte.gz\nDownloading http://yann.lecun.com/exdb/mnist/t10k-labels-idx1-ubyte.gz to ./data/MNIST/raw/t10k-labels-idx1-ubyte.gz\n",
          "output_type": "stream"
        },
        {
          "name": "stderr",
          "text": "100%|██████████| 4542/4542 [00:00<00:00, 6815931.58it/s]\n",
          "output_type": "stream"
        },
        {
          "name": "stdout",
          "text": "Extracting ./data/MNIST/raw/t10k-labels-idx1-ubyte.gz to ./data/MNIST/raw\n\nData loaders have been created.\n",
          "output_type": "stream"
        }
      ]
    },
    {
      "cell_type": "markdown",
      "source": [
        "### dcive - model - optimizer - loss - criterion"
      ],
      "metadata": {
        "id": "aoh5plmGIdgF"
      }
    },
    {
      "cell_type": "code",
      "source": [
        "device = torch.device('cuda' if torch.cuda.is_available() else 'cpu')\n",
        "model = ResNet(block=BasicBlock, layers=[2, 2, 2, 2], num_classes=10, img_channels=3,  dropout_rate=0.5)\n",
        "model.to(device)\n",
        "criterion = nn.CrossEntropyLoss()\n",
        "optimizer = torch.optim.SGD(model.parameters(), lr=0.001, momentum=0.9)"
      ],
      "metadata": {
        "execution": {
          "iopub.status.busy": "2024-03-29T14:59:45.570114Z",
          "iopub.execute_input": "2024-03-29T14:59:45.571081Z",
          "iopub.status.idle": "2024-03-29T14:59:45.926018Z",
          "shell.execute_reply.started": "2024-03-29T14:59:45.571048Z",
          "shell.execute_reply": "2024-03-29T14:59:45.925117Z"
        },
        "trusted": true,
        "id": "N-Vjyg5YIdgG"
      },
      "execution_count": null,
      "outputs": []
    },
    {
      "cell_type": "markdown",
      "source": [
        "### Training definition"
      ],
      "metadata": {
        "id": "OZ463LYeIdgG"
      }
    },
    {
      "cell_type": "code",
      "source": [
        "num_epochs = 10\n",
        "losses = []\n",
        "\n",
        "for epoch in range(num_epochs):\n",
        "    model.train()\n",
        "    running_loss = 0.0\n",
        "    for images, labels in train_loader_svhn:\n",
        "        images, labels = images.to(device), labels.to(device)\n",
        "\n",
        "        optimizer.zero_grad()\n",
        "        outputs = model(images)\n",
        "        loss = criterion(outputs, labels)\n",
        "        loss.backward()\n",
        "        optimizer.step()\n",
        "\n",
        "        running_loss += loss.item()\n",
        "\n",
        "    epoch_loss = running_loss / len(train_loader_svhn)\n",
        "    losses.append(epoch_loss)\n",
        "    print(f\"Epoch [{epoch+1}/{num_epochs}], Loss: {epoch_loss:.4f}\")"
      ],
      "metadata": {
        "execution": {
          "iopub.status.busy": "2024-03-29T14:59:47.162515Z",
          "iopub.execute_input": "2024-03-29T14:59:47.162958Z",
          "iopub.status.idle": "2024-03-29T15:29:02.219719Z",
          "shell.execute_reply.started": "2024-03-29T14:59:47.162927Z",
          "shell.execute_reply": "2024-03-29T15:29:02.218233Z"
        },
        "trusted": true,
        "id": "h5Qasxw2IdgG",
        "outputId": "45230ad7-8a8c-4190-b5b2-aedece1339ae"
      },
      "execution_count": null,
      "outputs": [
        {
          "name": "stdout",
          "text": "Epoch [1/10], Loss: 2.2819\nEpoch [2/10], Loss: 2.2447\nEpoch [3/10], Loss: 2.1801\nEpoch [4/10], Loss: 1.2056\nEpoch [5/10], Loss: 0.5907\nEpoch [6/10], Loss: 0.4509\nEpoch [7/10], Loss: 0.3927\nEpoch [8/10], Loss: 0.3553\nEpoch [9/10], Loss: 0.3296\nEpoch [10/10], Loss: 0.3080\n",
          "output_type": "stream"
        }
      ]
    },
    {
      "cell_type": "markdown",
      "source": [
        "### plotting the loss"
      ],
      "metadata": {
        "id": "eadwdqCCIdgH"
      }
    },
    {
      "cell_type": "code",
      "source": [
        "plt.figure(figsize=(10, 5))\n",
        "plt.plot(range(1, num_epochs+1), losses, marker='o', color='blue', label='Training Loss')\n",
        "plt.title(\"Training Loss\")\n",
        "plt.xlabel(\"Epoch\")\n",
        "plt.ylabel(\"Loss\")\n",
        "plt.grid(True)\n",
        "plt.legend()\n",
        "plt.show()"
      ],
      "metadata": {
        "execution": {
          "iopub.status.busy": "2024-03-29T15:29:09.242796Z",
          "iopub.execute_input": "2024-03-29T15:29:09.243300Z",
          "iopub.status.idle": "2024-03-29T15:29:09.655732Z",
          "shell.execute_reply.started": "2024-03-29T15:29:09.243252Z",
          "shell.execute_reply": "2024-03-29T15:29:09.654740Z"
        },
        "trusted": true,
        "id": "Bo2s5VDwIdgH",
        "outputId": "c4687c4e-4f09-4681-96f3-ef9255e84f94"
      },
      "execution_count": null,
      "outputs": [
        {
          "output_type": "display_data",
          "data": {
            "text/plain": "<Figure size 1000x500 with 1 Axes>",
            "image/png": "[encoded data removed]"
          },
          "metadata": {}
        }
      ]
    },
    {
      "cell_type": "markdown",
      "source": [
        "### Define Testing the model"
      ],
      "metadata": {
        "id": "PIB5KVhBIdgH"
      }
    },
    {
      "cell_type": "code",
      "source": [
        "def test_model(model, test_loader):\n",
        "    model.eval()\n",
        "    correct = 0\n",
        "    total = 0\n",
        "    with torch.no_grad():\n",
        "        for images, labels in test_loader:\n",
        "            images, labels = images.to(device), labels.to(device)\n",
        "            outputs = model(images)\n",
        "            _, predicted = torch.max(outputs.data, 1)\n",
        "            total += labels.size(0)\n",
        "            correct += (predicted == labels).sum().item()\n",
        "\n",
        "    accuracy = 100 * correct / total\n",
        "    print(f'Accuracy: {accuracy:.2f}%')\n",
        "    return accuracy"
      ],
      "metadata": {
        "execution": {
          "iopub.status.busy": "2024-03-29T15:29:14.377846Z",
          "iopub.execute_input": "2024-03-29T15:29:14.378230Z",
          "iopub.status.idle": "2024-03-29T15:29:14.385443Z",
          "shell.execute_reply.started": "2024-03-29T15:29:14.378202Z",
          "shell.execute_reply": "2024-03-29T15:29:14.384270Z"
        },
        "trusted": true,
        "id": "F0j3-pHRIdgI"
      },
      "execution_count": null,
      "outputs": []
    },
    {
      "cell_type": "markdown",
      "source": [
        "### Test on Datasets"
      ],
      "metadata": {
        "id": "Bdpmym7lIdgJ"
      }
    },
    {
      "cell_type": "code",
      "source": [
        "accuracy_svhn = test_model(model, test_loader_svhn)\n",
        "accuracy_mnist = test_model(model, test_loader_mnist)"
      ],
      "metadata": {
        "execution": {
          "iopub.status.busy": "2024-03-29T15:29:17.842651Z",
          "iopub.execute_input": "2024-03-29T15:29:17.843029Z",
          "iopub.status.idle": "2024-03-29T15:30:28.514361Z",
          "shell.execute_reply.started": "2024-03-29T15:29:17.843001Z",
          "shell.execute_reply": "2024-03-29T15:30:28.513152Z"
        },
        "trusted": true,
        "id": "klAcodDfIdgJ",
        "outputId": "1085abfe-1d47-452b-b13a-005ea967883b"
      },
      "execution_count": null,
      "outputs": [
        {
          "name": "stdout",
          "text": "Accuracy: 94.29%\nAccuracy: 77.86%\n",
          "output_type": "stream"
        }
      ]
    }
  ]
}