{
  "metadata": {
    "kernelspec": {
      "language": "python",
      "display_name": "Python 3",
      "name": "python3"
    },
    "language_info": {
      "name": "python",
      "version": "3.10.13",
      "mimetype": "text/x-python",
      "codemirror_mode": {
        "name": "ipython",
        "version": 3
      },
      "pygments_lexer": "ipython3",
      "nbconvert_exporter": "python",
      "file_extension": ".py"
    },
    "kaggle": {
      "accelerator": "gpu",
      "dataSources": [],
      "dockerImageVersionId": 30674,
      "isInternetEnabled": true,
      "language": "python",
      "sourceType": "notebook",
      "isGpuEnabled": true
    },
    "colab": {
      "provenance": []
    }
  },
  "nbformat_minor": 0,
  "nbformat": 4,
  "cells": [
    {
      "cell_type": "markdown",
      "source": [
        "### Import required libraries"
      ],
      "metadata": {
        "id": "ej38g2FxKFRo"
      }
    },
    {
      "cell_type": "code",
      "source": [
        "import torch\n",
        "import torch.nn as nn\n",
        "import torch.nn.functional as F\n",
        "import torchvision\n",
        "import torchvision.transforms as transforms\n",
        "from typing import Type, List\n",
        "from torch.utils.data import DataLoader\n",
        "from torchvision.datasets import SVHN, MNIST\n",
        "import matplotlib.pyplot as plt\n",
        "from torchvision.transforms import Compose, Resize, Grayscale, ToTensor, Normalize"
      ],
      "metadata": {
        "execution": {
          "iopub.status.busy": "2024-03-29T14:02:45.384820Z",
          "iopub.execute_input": "2024-03-29T14:02:45.385166Z",
          "iopub.status.idle": "2024-03-29T14:02:52.143764Z",
          "shell.execute_reply.started": "2024-03-29T14:02:45.385130Z",
          "shell.execute_reply": "2024-03-29T14:02:52.142745Z"
        },
        "trusted": true,
        "id": "7v0gUx2fKFRs"
      },
      "execution_count": null,
      "outputs": []
    },
    {
      "cell_type": "markdown",
      "source": [
        "### Define BasicBlock"
      ],
      "metadata": {
        "id": "8ZFXZbvjKFRu"
      }
    },
    {
      "cell_type": "code",
      "source": [
        "class BasicBlock(nn.Module):\n",
        "    expansion = 1\n",
        "\n",
        "    def __init__(self, in_channels, out_channels, stride=1, downsample=None):\n",
        "        super(BasicBlock, self).__init__()\n",
        "        self.conv1 = nn.Conv2d(in_channels, out_channels, kernel_size=3, stride=stride, padding=1, bias=False)\n",
        "        self.bn1 = nn.BatchNorm2d(out_channels)\n",
        "        self.relu = nn.ReLU(inplace=True)\n",
        "        self.conv2 = nn.Conv2d(out_channels, out_channels * self.expansion, kernel_size=3, stride=1, padding=1, bias=False)\n",
        "        self.bn2 = nn.BatchNorm2d(out_channels * self.expansion)\n",
        "        self.downsample = downsample\n",
        "\n",
        "    def forward(self, x):\n",
        "        identity = x if self.downsample is None else self.downsample(x)\n",
        "\n",
        "        out = self.conv1(x)\n",
        "        out = self.bn1(out)\n",
        "        out = self.relu(out)\n",
        "        out = self.conv2(out)\n",
        "        out = self.bn2(out)\n",
        "\n",
        "        out += identity\n",
        "        out = self.relu(out)\n",
        "        return out"
      ],
      "metadata": {
        "execution": {
          "iopub.status.busy": "2024-03-29T14:02:53.219927Z",
          "iopub.execute_input": "2024-03-29T14:02:53.220663Z",
          "iopub.status.idle": "2024-03-29T14:02:53.229702Z",
          "shell.execute_reply.started": "2024-03-29T14:02:53.220631Z",
          "shell.execute_reply": "2024-03-29T14:02:53.228757Z"
        },
        "trusted": true,
        "id": "bCpqQV9gKFRv"
      },
      "execution_count": null,
      "outputs": []
    },
    {
      "cell_type": "markdown",
      "source": [
        "### ResNet"
      ],
      "metadata": {
        "id": "fD3zFGw8KFRv"
      }
    },
    {
      "cell_type": "code",
      "source": [
        "class ResNet(nn.Module):\n",
        "    def __init__(self, block: Type[BasicBlock], layers: List[int], num_classes: int = 10, img_channels: int = 3):\n",
        "        super(ResNet, self).__init__()\n",
        "        self.in_channels = 64\n",
        "        self.conv1 = nn.Conv2d(img_channels, 64, kernel_size=7, stride=2, padding=3, bias=False)\n",
        "        self.bn1 = nn.BatchNorm2d(64)\n",
        "        self.relu = nn.ReLU(inplace=True)\n",
        "        self.maxpool = nn.MaxPool2d(kernel_size=3, stride=2, padding=1)\n",
        "\n",
        "        self.layer1 = self._make_layer(block, 64, layers[0])\n",
        "        self.layer2 = self._make_layer(block, 128, layers[1], stride=2)\n",
        "        self.layer3 = self._make_layer(block, 256, layers[2], stride=2)\n",
        "        self.layer4 = self._make_layer(block, 512, layers[3], stride=2)\n",
        "\n",
        "        self.avgpool = nn.AdaptiveAvgPool2d((1, 1))\n",
        "        self.fc = nn.Linear(512 * block.expansion, num_classes)\n",
        "\n",
        "    def _make_layer(self, block, out_channels, blocks, stride=1):\n",
        "        downsample = None\n",
        "        if stride != 1 or self.in_channels != out_channels * block.expansion:\n",
        "            downsample = nn.Sequential(\n",
        "                nn.Conv2d(self.in_channels, out_channels * block.expansion, kernel_size=1, stride=stride, bias=False),\n",
        "                nn.BatchNorm2d(out_channels * block.expansion),\n",
        "            )\n",
        "\n",
        "        layers = [block(self.in_channels, out_channels, stride, downsample)]\n",
        "        self.in_channels = out_channels * block.expansion\n",
        "        for _ in range(1, blocks):\n",
        "            layers.append(block(self.in_channels, out_channels))\n",
        "\n",
        "        return nn.Sequential(*layers)\n",
        "\n",
        "    def forward(self, x):\n",
        "        x = self.conv1(x)\n",
        "        x = self.bn1(x)\n",
        "        x = self.relu(x)\n",
        "        x = self.maxpool(x)\n",
        "\n",
        "        x = self.layer1(x)\n",
        "        x = self.layer2(x)\n",
        "        x = self.layer3(x)\n",
        "        x = self.layer4(x)\n",
        "\n",
        "        x = self.avgpool(x)\n",
        "        x = torch.flatten(x, 1)\n",
        "        x = self.fc(x)\n",
        "        return x"
      ],
      "metadata": {
        "execution": {
          "iopub.status.busy": "2024-03-29T14:02:54.580003Z",
          "iopub.execute_input": "2024-03-29T14:02:54.580674Z",
          "iopub.status.idle": "2024-03-29T14:02:54.594491Z",
          "shell.execute_reply.started": "2024-03-29T14:02:54.580643Z",
          "shell.execute_reply": "2024-03-29T14:02:54.593419Z"
        },
        "trusted": true,
        "id": "6PWxn1j9KFRw"
      },
      "execution_count": null,
      "outputs": []
    },
    {
      "cell_type": "markdown",
      "source": [
        "### transformation - Aug"
      ],
      "metadata": {
        "id": "PVC0aR-lKFRw"
      }
    },
    {
      "cell_type": "code",
      "source": [
        "transform_svhn = Compose([\n",
        "    Grayscale(num_output_channels=3),\n",
        "    ToTensor(),\n",
        "    Normalize(mean=[0.4377, 0.4438, 0.4728], std=[0.1201, 0.1231, 0.1052])\n",
        "])\n",
        "\n",
        "\n",
        "transform_mnist = Compose([\n",
        "    Resize((32,32)),\n",
        "    Grayscale(num_output_channels=3),\n",
        "    ToTensor(),\n",
        "    Normalize(mean=[0.1307, 0.1307, 0.1307], std=[0.3015, 0.3015, 0.3015])\n",
        "])\n"
      ],
      "metadata": {
        "execution": {
          "iopub.status.busy": "2024-03-29T14:02:56.654563Z",
          "iopub.execute_input": "2024-03-29T14:02:56.655308Z",
          "iopub.status.idle": "2024-03-29T14:02:56.661559Z",
          "shell.execute_reply.started": "2024-03-29T14:02:56.655277Z",
          "shell.execute_reply": "2024-03-29T14:02:56.660556Z"
        },
        "trusted": true,
        "id": "t3LytObaKFRw"
      },
      "execution_count": null,
      "outputs": []
    },
    {
      "cell_type": "markdown",
      "source": [
        "### loading - loaders"
      ],
      "metadata": {
        "id": "qqq3_9G_KFRx"
      }
    },
    {
      "cell_type": "code",
      "source": [
        "train_dataset_svhn = SVHN(root='./data', split='train', download=True, transform=transform_svhn)\n",
        "test_dataset_svhn = SVHN(root='./data', split='test', download=True, transform=transform_svhn)\n",
        "\n",
        "train_loader_svhn = DataLoader(dataset=train_dataset_svhn, batch_size=16, shuffle=True, num_workers=2)\n",
        "test_loader_svhn = DataLoader(dataset=test_dataset_svhn, batch_size=16, shuffle=False, num_workers=2)\n",
        "\n",
        "train_dataset_mnist = MNIST(root='./data', train=True, download=True, transform=transform_mnist)\n",
        "test_dataset_mnist = MNIST(root='./data', train=False, download=True, transform=transform_mnist)\n",
        "\n",
        "train_loader_mnist = DataLoader(dataset=train_dataset_mnist, batch_size=16, shuffle=True, num_workers=2)\n",
        "test_loader_mnist = DataLoader(dataset=test_dataset_mnist, batch_size=16, shuffle=False, num_workers=2)\n",
        "\n",
        "print(\"Data loaders have been created.\")"
      ],
      "metadata": {
        "execution": {
          "iopub.status.busy": "2024-03-29T14:02:58.024149Z",
          "iopub.execute_input": "2024-03-29T14:02:58.024866Z",
          "iopub.status.idle": "2024-03-29T14:03:13.135519Z",
          "shell.execute_reply.started": "2024-03-29T14:02:58.024834Z",
          "shell.execute_reply": "2024-03-29T14:03:13.133903Z"
        },
        "trusted": true,
        "id": "Wf1yfmmTKFRx",
        "outputId": "7cac4ca4-71ee-49df-f451-49961b083b04"
      },
      "execution_count": null,
      "outputs": [
        {
          "name": "stdout",
          "text": "Downloading http://ufldl.stanford.edu/housenumbers/train_32x32.mat to ./data/train_32x32.mat\n",
          "output_type": "stream"
        },
        {
          "name": "stderr",
          "text": "100%|██████████| 182040794/182040794 [00:07<00:00, 23559260.53it/s]\n",
          "output_type": "stream"
        },
        {
          "name": "stdout",
          "text": "Downloading http://ufldl.stanford.edu/housenumbers/test_32x32.mat to ./data/test_32x32.mat\n",
          "output_type": "stream"
        },
        {
          "name": "stderr",
          "text": "100%|██████████| 64275384/64275384 [00:02<00:00, 30572183.82it/s]\n",
          "output_type": "stream"
        },
        {
          "name": "stdout",
          "text": "Downloading http://yann.lecun.com/exdb/mnist/train-images-idx3-ubyte.gz\nDownloading http://yann.lecun.com/exdb/mnist/train-images-idx3-ubyte.gz to ./data/MNIST/raw/train-images-idx3-ubyte.gz\n",
          "output_type": "stream"
        },
        {
          "name": "stderr",
          "text": "100%|██████████| 9912422/9912422 [00:00<00:00, 33332647.51it/s]\n",
          "output_type": "stream"
        },
        {
          "name": "stdout",
          "text": "Extracting ./data/MNIST/raw/train-images-idx3-ubyte.gz to ./data/MNIST/raw\n\nDownloading http://yann.lecun.com/exdb/mnist/train-labels-idx1-ubyte.gz\nDownloading http://yann.lecun.com/exdb/mnist/train-labels-idx1-ubyte.gz to ./data/MNIST/raw/train-labels-idx1-ubyte.gz\n",
          "output_type": "stream"
        },
        {
          "name": "stderr",
          "text": "100%|██████████| 28881/28881 [00:00<00:00, 46988244.31it/s]",
          "output_type": "stream"
        },
        {
          "name": "stdout",
          "text": "Extracting ./data/MNIST/raw/train-labels-idx1-ubyte.gz to ./data/MNIST/raw\n\nDownloading http://yann.lecun.com/exdb/mnist/t10k-images-idx3-ubyte.gz\n",
          "output_type": "stream"
        },
        {
          "name": "stderr",
          "text": "\n",
          "output_type": "stream"
        },
        {
          "name": "stdout",
          "text": "Downloading http://yann.lecun.com/exdb/mnist/t10k-images-idx3-ubyte.gz to ./data/MNIST/raw/t10k-images-idx3-ubyte.gz\n",
          "output_type": "stream"
        },
        {
          "name": "stderr",
          "text": "100%|██████████| 1648877/1648877 [00:00<00:00, 10720982.51it/s]\n",
          "output_type": "stream"
        },
        {
          "name": "stdout",
          "text": "Extracting ./data/MNIST/raw/t10k-images-idx3-ubyte.gz to ./data/MNIST/raw\n\nDownloading http://yann.lecun.com/exdb/mnist/t10k-labels-idx1-ubyte.gz\nDownloading http://yann.lecun.com/exdb/mnist/t10k-labels-idx1-ubyte.gz to ./data/MNIST/raw/t10k-labels-idx1-ubyte.gz\n",
          "output_type": "stream"
        },
        {
          "name": "stderr",
          "text": "100%|██████████| 4542/4542 [00:00<00:00, 8463140.28it/s]",
          "output_type": "stream"
        },
        {
          "name": "stdout",
          "text": "Extracting ./data/MNIST/raw/t10k-labels-idx1-ubyte.gz to ./data/MNIST/raw\n\nData loaders have been created.\n",
          "output_type": "stream"
        },
        {
          "name": "stderr",
          "text": "\n",
          "output_type": "stream"
        }
      ]
    },
    {
      "cell_type": "markdown",
      "source": [
        "### criterion - optim - loss - model"
      ],
      "metadata": {
        "id": "mIkoq4aOKFRy"
      }
    },
    {
      "cell_type": "code",
      "source": [
        "device = torch.device('cuda' if torch.cuda.is_available() else 'cpu')\n",
        "model = ResNet(block=BasicBlock, layers=[2, 2, 2, 2], num_classes=10, img_channels=3 )\n",
        "model.to(device)\n",
        "criterion = nn.CrossEntropyLoss()\n",
        "optimizer = torch.optim.SGD(model.parameters(), lr=0.001, momentum=0.9)"
      ],
      "metadata": {
        "execution": {
          "iopub.status.busy": "2024-03-29T14:03:15.164417Z",
          "iopub.execute_input": "2024-03-29T14:03:15.165727Z",
          "iopub.status.idle": "2024-03-29T14:03:15.529005Z",
          "shell.execute_reply.started": "2024-03-29T14:03:15.165689Z",
          "shell.execute_reply": "2024-03-29T14:03:15.528103Z"
        },
        "trusted": true,
        "id": "HqOuLlzAKFRy"
      },
      "execution_count": null,
      "outputs": []
    },
    {
      "cell_type": "markdown",
      "source": [
        "### Training"
      ],
      "metadata": {
        "id": "V9pCDnxfKFRy"
      }
    },
    {
      "cell_type": "code",
      "source": [
        "num_epochs = 10\n",
        "losses = []\n",
        "\n",
        "for epoch in range(num_epochs):\n",
        "    model.train()\n",
        "    running_loss = 0.0\n",
        "    for images, labels in train_loader_svhn:\n",
        "        images, labels = images.to(device), labels.to(device)\n",
        "\n",
        "        optimizer.zero_grad()\n",
        "        outputs = model(images)\n",
        "        loss = criterion(outputs, labels)\n",
        "        loss.backward()\n",
        "        optimizer.step()\n",
        "\n",
        "        running_loss += loss.item()\n",
        "\n",
        "    epoch_loss = running_loss / len(train_loader_svhn)\n",
        "    losses.append(epoch_loss)\n",
        "    print(f\"Epoch [{epoch+1}/{num_epochs}], Loss: {epoch_loss:.4f}\")"
      ],
      "metadata": {
        "execution": {
          "iopub.status.busy": "2024-03-29T14:03:16.930537Z",
          "iopub.execute_input": "2024-03-29T14:03:16.930964Z",
          "iopub.status.idle": "2024-03-29T14:25:45.729843Z",
          "shell.execute_reply.started": "2024-03-29T14:03:16.930930Z",
          "shell.execute_reply": "2024-03-29T14:25:45.728682Z"
        },
        "trusted": true,
        "id": "MR3t5UQaKFRz",
        "outputId": "c2d85553-0caf-4bd6-ba72-8b9211267590"
      },
      "execution_count": null,
      "outputs": [
        {
          "name": "stdout",
          "text": "Epoch [1/10], Loss: 0.6752\nEpoch [2/10], Loss: 0.2478\nEpoch [3/10], Loss: 0.1921\nEpoch [5/10], Loss: 0.1262\nEpoch [6/10], Loss: 0.0966\nEpoch [7/10], Loss: 0.0778\nEpoch [8/10], Loss: 0.0532\nEpoch [9/10], Loss: 0.0395\nEpoch [10/10], Loss: 0.0315\n",
          "output_type": "stream"
        }
      ]
    },
    {
      "cell_type": "markdown",
      "source": [
        "### plotting the loss"
      ],
      "metadata": {
        "id": "CzCeKd5GKFRz"
      }
    },
    {
      "cell_type": "code",
      "source": [
        "plt.figure(figsize=(10, 5))\n",
        "plt.plot(range(1, num_epochs+1), losses, marker='o', color='blue', label='Training Loss')\n",
        "plt.title(\"Training Loss\")\n",
        "plt.xlabel(\"Epoch\")\n",
        "plt.ylabel(\"Loss\")\n",
        "plt.grid(True)\n",
        "plt.legend()\n",
        "plt.show()"
      ],
      "metadata": {
        "execution": {
          "iopub.status.busy": "2024-03-29T14:25:50.410712Z",
          "iopub.execute_input": "2024-03-29T14:25:50.411112Z",
          "iopub.status.idle": "2024-03-29T14:25:50.742799Z",
          "shell.execute_reply.started": "2024-03-29T14:25:50.411074Z",
          "shell.execute_reply": "2024-03-29T14:25:50.741869Z"
        },
        "trusted": true,
        "id": "b-GEndFQKFRz",
        "outputId": "a6b968f3-66b2-425b-c257-23dde8098943"
      },
      "execution_count": null,
      "outputs": [
        {
          "output_type": "display_data",
          "data": {
            "text/plain": "<Figure size 1000x500 with 1 Axes>",
            "image/png": "[encoded data removed]"
          },
          "metadata": {}
        }
      ]
    },
    {
      "cell_type": "markdown",
      "source": [
        "### Testing definition"
      ],
      "metadata": {
        "id": "iesCrNH6KFRz"
      }
    },
    {
      "cell_type": "code",
      "source": [
        "def test_model(model, test_loader):\n",
        "    model.eval()\n",
        "    correct = 0\n",
        "    total = 0\n",
        "    with torch.no_grad():\n",
        "        for images, labels in test_loader:\n",
        "            images, labels = images.to(device), labels.to(device)\n",
        "            outputs = model(images)\n",
        "            _, predicted = torch.max(outputs.data, 1)\n",
        "            total += labels.size(0)\n",
        "            correct += (predicted == labels).sum().item()\n",
        "\n",
        "    accuracy = 100 * correct / total\n",
        "    print(f'Accuracy: {accuracy:.2f}%')\n",
        "    return accuracy"
      ],
      "metadata": {
        "execution": {
          "iopub.status.busy": "2024-03-29T14:25:54.339043Z",
          "iopub.execute_input": "2024-03-29T14:25:54.339986Z",
          "iopub.status.idle": "2024-03-29T14:25:54.346631Z",
          "shell.execute_reply.started": "2024-03-29T14:25:54.339952Z",
          "shell.execute_reply": "2024-03-29T14:25:54.345574Z"
        },
        "trusted": true,
        "id": "Xgn0S8a1KFRz"
      },
      "execution_count": null,
      "outputs": []
    },
    {
      "cell_type": "markdown",
      "source": [
        "### Results"
      ],
      "metadata": {
        "id": "ZzHwn8KJKFR0"
      }
    },
    {
      "cell_type": "code",
      "source": [
        "accuracy_svhn = test_model(model, test_loader_svhn)\n",
        "accuracy_mnist = test_model(model, test_loader_mnist)"
      ],
      "metadata": {
        "execution": {
          "iopub.status.busy": "2024-03-29T14:25:57.571483Z",
          "iopub.execute_input": "2024-03-29T14:25:57.572421Z",
          "iopub.status.idle": "2024-03-29T14:26:42.327528Z",
          "shell.execute_reply.started": "2024-03-29T14:25:57.572384Z",
          "shell.execute_reply": "2024-03-29T14:26:42.326318Z"
        },
        "trusted": true,
        "id": "ehXhmaYZKFR0",
        "outputId": "b3f128f7-2fb8-43bf-fba5-21d428dd7ebd"
      },
      "execution_count": null,
      "outputs": [
        {
          "name": "stdout",
          "text": "Accuracy: 93.83%\nAccuracy: 64.34%\n",
          "output_type": "stream"
        }
      ]
    }
  ]
}