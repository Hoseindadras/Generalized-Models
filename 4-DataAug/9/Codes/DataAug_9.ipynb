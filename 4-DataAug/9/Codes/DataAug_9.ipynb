{
  "metadata": {
    "kernelspec": {
      "language": "python",
      "display_name": "Python 3",
      "name": "python3"
    },
    "language_info": {
      "name": "python",
      "version": "3.10.13",
      "mimetype": "text/x-python",
      "codemirror_mode": {
        "name": "ipython",
        "version": 3
      },
      "pygments_lexer": "ipython3",
      "nbconvert_exporter": "python",
      "file_extension": ".py"
    },
    "kaggle": {
      "accelerator": "gpu",
      "dataSources": [],
      "dockerImageVersionId": 30674,
      "isInternetEnabled": true,
      "language": "python",
      "sourceType": "notebook",
      "isGpuEnabled": true
    },
    "colab": {
      "provenance": []
    }
  },
  "nbformat_minor": 0,
  "nbformat": 4,
  "cells": [
    {
      "cell_type": "markdown",
      "source": [
        "### Import required libraries"
      ],
      "metadata": {
        "id": "Z8QR-FkbMTzE"
      }
    },
    {
      "cell_type": "code",
      "source": [
        "import torch\n",
        "import torch.nn as nn\n",
        "import torch.nn.functional as F\n",
        "import torchvision\n",
        "import torchvision.transforms as transforms\n",
        "from typing import Type, List\n",
        "from torch.utils.data import DataLoader\n",
        "from torchvision.datasets import SVHN, MNIST\n",
        "import matplotlib.pyplot as plt\n",
        "from torchvision.transforms import Compose, Resize, RandomApply, ColorJitter, RandomAffine, GaussianBlur, Grayscale, ToTensor, Normalize, RandomErasing, ElasticTransform"
      ],
      "metadata": {
        "execution": {
          "iopub.status.busy": "2024-03-29T10:15:00.884390Z",
          "iopub.execute_input": "2024-03-29T10:15:00.884711Z",
          "iopub.status.idle": "2024-03-29T10:15:07.520952Z",
          "shell.execute_reply.started": "2024-03-29T10:15:00.884684Z",
          "shell.execute_reply": "2024-03-29T10:15:07.520168Z"
        },
        "trusted": true,
        "id": "C8MPql1lMTzG"
      },
      "execution_count": null,
      "outputs": []
    },
    {
      "cell_type": "markdown",
      "source": [
        "### Define BasicBlock"
      ],
      "metadata": {
        "id": "033KOrgKMTzH"
      }
    },
    {
      "cell_type": "code",
      "source": [
        "class BasicBlock(nn.Module):\n",
        "    expansion = 1\n",
        "\n",
        "    def __init__(self, in_channels, out_channels, stride=1, downsample=None):\n",
        "        super(BasicBlock, self).__init__()\n",
        "        self.conv1 = nn.Conv2d(in_channels, out_channels, kernel_size=3, stride=stride, padding=1, bias=False)\n",
        "        self.bn1 = nn.BatchNorm2d(out_channels)\n",
        "        self.relu = nn.ReLU(inplace=True)\n",
        "        self.conv2 = nn.Conv2d(out_channels, out_channels * self.expansion, kernel_size=3, stride=1, padding=1, bias=False)\n",
        "        self.bn2 = nn.BatchNorm2d(out_channels * self.expansion)\n",
        "        self.downsample = downsample\n",
        "\n",
        "    def forward(self, x):\n",
        "        identity = x if self.downsample is None else self.downsample(x)\n",
        "\n",
        "        out = self.conv1(x)\n",
        "        out = self.bn1(out)\n",
        "        out = self.relu(out)\n",
        "        out = self.conv2(out)\n",
        "        out = self.bn2(out)\n",
        "\n",
        "        out += identity\n",
        "        out = self.relu(out)\n",
        "        return out"
      ],
      "metadata": {
        "execution": {
          "iopub.status.busy": "2024-03-29T10:15:11.084522Z",
          "iopub.execute_input": "2024-03-29T10:15:11.085520Z",
          "iopub.status.idle": "2024-03-29T10:15:11.094294Z",
          "shell.execute_reply.started": "2024-03-29T10:15:11.085486Z",
          "shell.execute_reply": "2024-03-29T10:15:11.093418Z"
        },
        "trusted": true,
        "id": "FK-N_lJmMTzI"
      },
      "execution_count": null,
      "outputs": []
    },
    {
      "cell_type": "markdown",
      "source": [
        "### ResNet model"
      ],
      "metadata": {
        "id": "fNGzpJjmMTzI"
      }
    },
    {
      "cell_type": "code",
      "source": [
        "class ResNet(nn.Module):\n",
        "    def __init__(self, block: Type[BasicBlock], layers: List[int], num_classes: int = 10, img_channels: int = 3):\n",
        "        super(ResNet, self).__init__()\n",
        "        self.in_channels = 64\n",
        "        self.conv1 = nn.Conv2d(img_channels, 64, kernel_size=7, stride=2, padding=3, bias=False)\n",
        "        self.bn1 = nn.BatchNorm2d(64)\n",
        "        self.relu = nn.ReLU(inplace=True)\n",
        "        self.maxpool = nn.MaxPool2d(kernel_size=3, stride=2, padding=1)\n",
        "\n",
        "        self.layer1 = self._make_layer(block, 64, layers[0])\n",
        "        self.layer2 = self._make_layer(block, 128, layers[1], stride=2)\n",
        "        self.layer3 = self._make_layer(block, 256, layers[2], stride=2)\n",
        "        self.layer4 = self._make_layer(block, 512, layers[3], stride=2)\n",
        "\n",
        "        self.avgpool = nn.AdaptiveAvgPool2d((1, 1))\n",
        "        self.fc = nn.Linear(512 * block.expansion, num_classes)\n",
        "\n",
        "    def _make_layer(self, block, out_channels, blocks, stride=1):\n",
        "        downsample = None\n",
        "        if stride != 1 or self.in_channels != out_channels * block.expansion:\n",
        "            downsample = nn.Sequential(\n",
        "                nn.Conv2d(self.in_channels, out_channels * block.expansion, kernel_size=1, stride=stride, bias=False),\n",
        "                nn.BatchNorm2d(out_channels * block.expansion),\n",
        "            )\n",
        "\n",
        "        layers = [block(self.in_channels, out_channels, stride, downsample)]\n",
        "        self.in_channels = out_channels * block.expansion\n",
        "        for _ in range(1, blocks):\n",
        "            layers.append(block(self.in_channels, out_channels))\n",
        "\n",
        "        return nn.Sequential(*layers)\n",
        "\n",
        "    def forward(self, x):\n",
        "        x = self.conv1(x)\n",
        "        x = self.bn1(x)\n",
        "        x = self.relu(x)\n",
        "        x = self.maxpool(x)\n",
        "\n",
        "        x = self.layer1(x)\n",
        "        x = self.layer2(x)\n",
        "        x = self.layer3(x)\n",
        "        x = self.layer4(x)\n",
        "\n",
        "        x = self.avgpool(x)\n",
        "        x = torch.flatten(x, 1)\n",
        "        x = self.fc(x)\n",
        "        return x"
      ],
      "metadata": {
        "execution": {
          "iopub.status.busy": "2024-03-29T10:15:12.900499Z",
          "iopub.execute_input": "2024-03-29T10:15:12.900843Z",
          "iopub.status.idle": "2024-03-29T10:15:12.914610Z",
          "shell.execute_reply.started": "2024-03-29T10:15:12.900816Z",
          "shell.execute_reply": "2024-03-29T10:15:12.913609Z"
        },
        "trusted": true,
        "id": "HaVwSUHfMTzI"
      },
      "execution_count": null,
      "outputs": []
    },
    {
      "cell_type": "markdown",
      "source": [
        "### Base transformation - Data Aug"
      ],
      "metadata": {
        "id": "58DPXSclMTzJ"
      }
    },
    {
      "cell_type": "code",
      "source": [
        "transform_svhn = Compose([\n",
        "    RandomApply([ColorJitter(brightness=0.5, contrast=0.5)], p=0.3),\n",
        "    ToTensor(),\n",
        "    Normalize(mean=[0.4377, 0.4438, 0.4728], std=[0.1201, 0.1231, 0.1052]),\n",
        "])\n",
        "\n",
        "transform_mnist = Compose([\n",
        "    Resize((32,32)),\n",
        "    Grayscale(num_output_channels=3),\n",
        "    ToTensor(),\n",
        "    Normalize(mean=[0.1307, 0.1307, 0.1307], std=[0.3015, 0.3015, 0.3015])\n",
        "])\n"
      ],
      "metadata": {
        "execution": {
          "iopub.status.busy": "2024-03-29T10:15:15.011726Z",
          "iopub.execute_input": "2024-03-29T10:15:15.012358Z",
          "iopub.status.idle": "2024-03-29T10:15:15.020408Z",
          "shell.execute_reply.started": "2024-03-29T10:15:15.012325Z",
          "shell.execute_reply": "2024-03-29T10:15:15.019081Z"
        },
        "trusted": true,
        "id": "3g2oUCZRMTzJ"
      },
      "execution_count": null,
      "outputs": []
    },
    {
      "cell_type": "markdown",
      "source": [
        "### Loading Training and Test Sets"
      ],
      "metadata": {
        "id": "piFCDXMJMTzJ"
      }
    },
    {
      "cell_type": "code",
      "source": [
        "train_dataset_svhn = SVHN(root='./data', split='train', download=True, transform=transform_svhn)\n",
        "test_dataset_svhn = SVHN(root='./data', split='test', download=True, transform=transform_svhn)\n",
        "\n",
        "train_loader_svhn = DataLoader(dataset=train_dataset_svhn, batch_size=16, shuffle=True, num_workers=2)\n",
        "test_loader_svhn = DataLoader(dataset=test_dataset_svhn, batch_size=16, shuffle=False, num_workers=2)\n",
        "\n",
        "train_dataset_mnist = MNIST(root='./data', train=True, download=True, transform=transform_mnist)\n",
        "test_dataset_mnist = MNIST(root='./data', train=False, download=True, transform=transform_mnist)\n",
        "\n",
        "train_loader_mnist = DataLoader(dataset=train_dataset_mnist, batch_size=16, shuffle=True, num_workers=2)\n",
        "test_loader_mnist = DataLoader(dataset=test_dataset_mnist, batch_size=16, shuffle=False, num_workers=2)\n",
        "\n",
        "print(\"Data loaders have been created.\")"
      ],
      "metadata": {
        "execution": {
          "iopub.status.busy": "2024-03-29T10:15:19.645418Z",
          "iopub.execute_input": "2024-03-29T10:15:19.646266Z",
          "iopub.status.idle": "2024-03-29T10:15:43.369451Z",
          "shell.execute_reply.started": "2024-03-29T10:15:19.646230Z",
          "shell.execute_reply": "2024-03-29T10:15:43.368484Z"
        },
        "trusted": true,
        "id": "ytD3aRo4MTzK",
        "outputId": "a4a085f4-cfa3-48bc-d5a4-b68a7a3db550"
      },
      "execution_count": null,
      "outputs": [
        {
          "name": "stdout",
          "text": "Downloading http://ufldl.stanford.edu/housenumbers/train_32x32.mat to ./data/train_32x32.mat\n",
          "output_type": "stream"
        },
        {
          "name": "stderr",
          "text": "100%|██████████| 182040794/182040794 [00:15<00:00, 11440757.68it/s]\n",
          "output_type": "stream"
        },
        {
          "name": "stdout",
          "text": "Downloading http://ufldl.stanford.edu/housenumbers/test_32x32.mat to ./data/test_32x32.mat\n",
          "output_type": "stream"
        },
        {
          "name": "stderr",
          "text": "100%|██████████| 64275384/64275384 [00:02<00:00, 25337991.22it/s]\n",
          "output_type": "stream"
        },
        {
          "name": "stdout",
          "text": "Downloading http://yann.lecun.com/exdb/mnist/train-images-idx3-ubyte.gz\nDownloading http://yann.lecun.com/exdb/mnist/train-images-idx3-ubyte.gz to ./data/MNIST/raw/train-images-idx3-ubyte.gz\n",
          "output_type": "stream"
        },
        {
          "name": "stderr",
          "text": "100%|██████████| 9912422/9912422 [00:00<00:00, 40677630.52it/s]\n",
          "output_type": "stream"
        },
        {
          "name": "stdout",
          "text": "Extracting ./data/MNIST/raw/train-images-idx3-ubyte.gz to ./data/MNIST/raw\n\nDownloading http://yann.lecun.com/exdb/mnist/train-labels-idx1-ubyte.gz\nDownloading http://yann.lecun.com/exdb/mnist/train-labels-idx1-ubyte.gz to ./data/MNIST/raw/train-labels-idx1-ubyte.gz\n",
          "output_type": "stream"
        },
        {
          "name": "stderr",
          "text": "100%|██████████| 28881/28881 [00:00<00:00, 118528076.15it/s]",
          "output_type": "stream"
        },
        {
          "name": "stdout",
          "text": "Extracting ./data/MNIST/raw/train-labels-idx1-ubyte.gz to ./data/MNIST/raw\n\nDownloading http://yann.lecun.com/exdb/mnist/t10k-images-idx3-ubyte.gz\n",
          "output_type": "stream"
        },
        {
          "name": "stderr",
          "text": "\n",
          "output_type": "stream"
        },
        {
          "name": "stdout",
          "text": "Downloading http://yann.lecun.com/exdb/mnist/t10k-images-idx3-ubyte.gz to ./data/MNIST/raw/t10k-images-idx3-ubyte.gz\n",
          "output_type": "stream"
        },
        {
          "name": "stderr",
          "text": "100%|██████████| 1648877/1648877 [00:00<00:00, 10105825.55it/s]\n",
          "output_type": "stream"
        },
        {
          "name": "stdout",
          "text": "Extracting ./data/MNIST/raw/t10k-images-idx3-ubyte.gz to ./data/MNIST/raw\n\nDownloading http://yann.lecun.com/exdb/mnist/t10k-labels-idx1-ubyte.gz\nDownloading http://yann.lecun.com/exdb/mnist/t10k-labels-idx1-ubyte.gz to ./data/MNIST/raw/t10k-labels-idx1-ubyte.gz\n",
          "output_type": "stream"
        },
        {
          "name": "stderr",
          "text": "100%|██████████| 4542/4542 [00:00<00:00, 8370179.60it/s]\n",
          "output_type": "stream"
        },
        {
          "name": "stdout",
          "text": "Extracting ./data/MNIST/raw/t10k-labels-idx1-ubyte.gz to ./data/MNIST/raw\n\nData loaders have been created.\n",
          "output_type": "stream"
        }
      ]
    },
    {
      "cell_type": "markdown",
      "source": [
        "### criterion - model - optimizer - loss"
      ],
      "metadata": {
        "id": "c82jKEN9MTzL"
      }
    },
    {
      "cell_type": "code",
      "source": [
        "device = torch.device('cuda' if torch.cuda.is_available() else 'cpu')\n",
        "model = ResNet(block=BasicBlock, layers=[2, 2, 2, 2], num_classes=10, img_channels=3 )\n",
        "model.to(device)\n",
        "criterion = nn.CrossEntropyLoss()\n",
        "optimizer = torch.optim.SGD(model.parameters(), lr=0.001, momentum=0.9)"
      ],
      "metadata": {
        "execution": {
          "iopub.status.busy": "2024-03-29T10:15:46.046679Z",
          "iopub.execute_input": "2024-03-29T10:15:46.047415Z",
          "iopub.status.idle": "2024-03-29T10:15:46.381514Z",
          "shell.execute_reply.started": "2024-03-29T10:15:46.047381Z",
          "shell.execute_reply": "2024-03-29T10:15:46.380403Z"
        },
        "trusted": true,
        "id": "ZlbVdWjPMTzL"
      },
      "execution_count": null,
      "outputs": []
    },
    {
      "cell_type": "markdown",
      "source": [
        "### Trainng"
      ],
      "metadata": {
        "id": "BlXBxJ3XMTzL"
      }
    },
    {
      "cell_type": "code",
      "source": [
        "num_epochs = 10\n",
        "losses = []\n",
        "\n",
        "for epoch in range(num_epochs):\n",
        "    model.train()\n",
        "    running_loss = 0.0\n",
        "    for images, labels in train_loader_svhn:\n",
        "        images, labels = images.to(device), labels.to(device)\n",
        "\n",
        "        optimizer.zero_grad()\n",
        "        outputs = model(images)\n",
        "        loss = criterion(outputs, labels)\n",
        "        loss.backward()\n",
        "        optimizer.step()\n",
        "\n",
        "        running_loss += loss.item()\n",
        "\n",
        "    epoch_loss = running_loss / len(train_loader_svhn)\n",
        "    losses.append(epoch_loss)\n",
        "    print(f\"Epoch [{epoch+1}/{num_epochs}], Loss: {epoch_loss:.4f}\")"
      ],
      "metadata": {
        "execution": {
          "iopub.status.busy": "2024-03-29T10:15:50.911474Z",
          "iopub.execute_input": "2024-03-29T10:15:50.912323Z",
          "iopub.status.idle": "2024-03-29T10:38:14.161089Z",
          "shell.execute_reply.started": "2024-03-29T10:15:50.912291Z",
          "shell.execute_reply": "2024-03-29T10:38:14.160022Z"
        },
        "trusted": true,
        "id": "I0u_todTMTzM",
        "outputId": "0e164847-d1fa-48a7-8570-9dfe5da39794"
      },
      "execution_count": null,
      "outputs": [
        {
          "name": "stdout",
          "text": "Epoch [1/10], Loss: 0.8539\nEpoch [2/10], Loss: 0.2644\nEpoch [3/10], Loss: 0.2072\nEpoch [4/10], Loss: 0.1685\nEpoch [5/10], Loss: 0.1401\nEpoch [6/10], Loss: 0.1150\nEpoch [7/10], Loss: 0.0896\nEpoch [8/10], Loss: 0.0703\nEpoch [9/10], Loss: 0.0565\nEpoch [10/10], Loss: 0.0404\n",
          "output_type": "stream"
        }
      ]
    },
    {
      "cell_type": "markdown",
      "source": [
        "### plotting the loss"
      ],
      "metadata": {
        "id": "I1zwLGyVMTzM"
      }
    },
    {
      "cell_type": "code",
      "source": [
        "plt.figure(figsize=(10, 5))\n",
        "plt.plot(range(1, num_epochs+1), losses, marker='o', color='blue', label='Training Loss')\n",
        "plt.title(\"Training Loss\")\n",
        "plt.xlabel(\"Epoch\")\n",
        "plt.ylabel(\"Loss\")\n",
        "plt.grid(True)\n",
        "plt.legend()\n",
        "plt.show()"
      ],
      "metadata": {
        "execution": {
          "iopub.status.busy": "2024-03-29T10:11:13.448779Z",
          "iopub.execute_input": "2024-03-29T10:11:13.449077Z",
          "iopub.status.idle": "2024-03-29T10:11:13.745672Z",
          "shell.execute_reply.started": "2024-03-29T10:11:13.449052Z",
          "shell.execute_reply": "2024-03-29T10:11:13.744791Z"
        },
        "trusted": true,
        "id": "UC4cjQpxMTzM",
        "outputId": "74ca4293-482a-4221-8a96-f89d5cee20d7"
      },
      "execution_count": null,
      "outputs": [
        {
          "output_type": "display_data",
          "data": {
            "text/plain": "<Figure size 1000x500 with 1 Axes>",
            "image/png": "[encoded data removed]"
          },
          "metadata": {}
        }
      ]
    },
    {
      "cell_type": "markdown",
      "source": [],
      "metadata": {
        "id": "pQYRZbGEMTzM"
      }
    },
    {
      "cell_type": "code",
      "source": [
        "def test_model(model, test_loader):\n",
        "    model.eval()\n",
        "    correct = 0\n",
        "    total = 0\n",
        "    with torch.no_grad():\n",
        "        for images, labels in test_loader:\n",
        "            images, labels = images.to(device), labels.to(device)\n",
        "            outputs = model(images)\n",
        "            _, predicted = torch.max(outputs.data, 1)\n",
        "            total += labels.size(0)\n",
        "            correct += (predicted == labels).sum().item()\n",
        "\n",
        "    accuracy = 100 * correct / total\n",
        "    print(f'Accuracy: {accuracy:.2f}%')\n",
        "    return accuracy"
      ],
      "metadata": {
        "execution": {
          "iopub.status.busy": "2024-03-29T10:11:16.679435Z",
          "iopub.execute_input": "2024-03-29T10:11:16.679773Z",
          "iopub.status.idle": "2024-03-29T10:11:16.688977Z",
          "shell.execute_reply.started": "2024-03-29T10:11:16.679747Z",
          "shell.execute_reply": "2024-03-29T10:11:16.688198Z"
        },
        "trusted": true,
        "id": "aPL7J6MWMTzM"
      },
      "execution_count": null,
      "outputs": []
    },
    {
      "cell_type": "markdown",
      "source": [],
      "metadata": {
        "id": "J67dctp5MTzM"
      }
    },
    {
      "cell_type": "code",
      "source": [
        "accuracy_svhn = test_model(model, test_loader_svhn)\n",
        "accuracy_mnist = test_model(model, test_loader_mnist)"
      ],
      "metadata": {
        "execution": {
          "iopub.status.busy": "2024-03-29T10:11:19.811941Z",
          "iopub.execute_input": "2024-03-29T10:11:19.812309Z",
          "iopub.status.idle": "2024-03-29T10:12:01.738730Z",
          "shell.execute_reply.started": "2024-03-29T10:11:19.812280Z",
          "shell.execute_reply": "2024-03-29T10:12:01.737622Z"
        },
        "trusted": true,
        "id": "0h61tO1vMTzM",
        "outputId": "8aff321a-0aa0-40df-c3d1-327a346c8921"
      },
      "execution_count": null,
      "outputs": [
        {
          "name": "stdout",
          "text": "Accuracy: 92.51%\nAccuracy: 72.45%\n",
          "output_type": "stream"
        }
      ]
    }
  ]
}