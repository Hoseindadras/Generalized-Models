{
  "metadata": {
    "kernelspec": {
      "display_name": "Python 3",
      "name": "python3"
    },
    "language_info": {
      "name": "python",
      "version": "3.10.13",
      "mimetype": "text/x-python",
      "codemirror_mode": {
        "name": "ipython",
        "version": 3
      },
      "pygments_lexer": "ipython3",
      "nbconvert_exporter": "python",
      "file_extension": ".py"
    },
    "kaggle": {
      "accelerator": "gpu",
      "dataSources": [],
      "dockerImageVersionId": 30674,
      "isInternetEnabled": true,
      "language": "python",
      "sourceType": "notebook",
      "isGpuEnabled": true
    },
    "colab": {
      "provenance": [],
      "gpuType": "T4"
    },
    "accelerator": "GPU"
  },
  "nbformat_minor": 0,
  "nbformat": 4,
  "cells": [
    {
      "cell_type": "markdown",
      "source": [
        "### Import required libraries"
      ],
      "metadata": {
        "id": "wCsa_PVwcHrG"
      }
    },
    {
      "cell_type": "code",
      "source": [
        "import torch\n",
        "import torchvision\n",
        "import torch.nn as nn\n",
        "import torch.nn.functional as F\n",
        "import torchvision.transforms as transforms\n",
        "import torchvision.datasets as datasets\n",
        "from torch.utils.data import DataLoader\n",
        "from torchvision.datasets import SVHN, MNIST\n",
        "from torchvision.transforms import Compose, Resize, Grayscale, ToTensor, Normalize\n",
        "from tqdm import tqdm\n",
        "import matplotlib.pyplot as plt\n",
        "import torch.optim as optim\n",
        "from torchvision import models"
      ],
      "metadata": {
        "execution": {
          "iopub.status.busy": "2024-04-02T15:40:05.633174Z",
          "iopub.execute_input": "2024-04-02T15:40:05.634326Z",
          "iopub.status.idle": "2024-04-02T15:40:12.003105Z",
          "shell.execute_reply.started": "2024-04-02T15:40:05.634284Z",
          "shell.execute_reply": "2024-04-02T15:40:12.002296Z"
        },
        "trusted": true,
        "id": "8fvTgee5cHrJ"
      },
      "execution_count": null,
      "outputs": []
    },
    {
      "cell_type": "markdown",
      "source": [
        "### load the pretrained ResNet18 model"
      ],
      "metadata": {
        "id": "_KDV2IYfcHrK"
      }
    },
    {
      "cell_type": "code",
      "source": [
        "model = models.resnet18(pretrained=True)"
      ],
      "metadata": {
        "execution": {
          "iopub.status.busy": "2024-04-02T15:40:12.004858Z",
          "iopub.execute_input": "2024-04-02T15:40:12.005794Z",
          "iopub.status.idle": "2024-04-02T15:40:12.760928Z",
          "shell.execute_reply.started": "2024-04-02T15:40:12.005759Z",
          "shell.execute_reply": "2024-04-02T15:40:12.760110Z"
        },
        "trusted": true,
        "colab": {
          "base_uri": "https://localhost:8080/"
        },
        "id": "-XPu7EuhcHrL",
        "outputId": "bfd90361-2dfe-49f8-8a12-8b7cc1264d8a"
      },
      "execution_count": null,
      "outputs": [
        {
          "output_type": "stream",
          "name": "stderr",
          "text": [
            "/usr/local/lib/python3.10/dist-packages/torchvision/models/_utils.py:208: UserWarning: The parameter 'pretrained' is deprecated since 0.13 and may be removed in the future, please use 'weights' instead.\n",
            "  warnings.warn(\n",
            "/usr/local/lib/python3.10/dist-packages/torchvision/models/_utils.py:223: UserWarning: Arguments other than a weight enum or `None` for 'weights' are deprecated since 0.13 and may be removed in the future. The current behavior is equivalent to passing `weights=ResNet18_Weights.IMAGENET1K_V1`. You can also use `weights=ResNet18_Weights.DEFAULT` to get the most up-to-date weights.\n",
            "  warnings.warn(msg)\n"
          ]
        }
      ]
    },
    {
      "cell_type": "markdown",
      "source": [
        "### Modify the final fully connected layer"
      ],
      "metadata": {
        "id": "qqOSp2OxcHrL"
      }
    },
    {
      "cell_type": "code",
      "source": [
        "num_features = model.fc.in_features\n",
        "model.fc = nn.Linear(num_features, 10)"
      ],
      "metadata": {
        "execution": {
          "iopub.status.busy": "2024-04-02T15:40:12.762183Z",
          "iopub.execute_input": "2024-04-02T15:40:12.762540Z",
          "iopub.status.idle": "2024-04-02T15:40:12.767871Z",
          "shell.execute_reply.started": "2024-04-02T15:40:12.762505Z",
          "shell.execute_reply": "2024-04-02T15:40:12.767003Z"
        },
        "trusted": true,
        "id": "UBlpQy1fcHrL"
      },
      "execution_count": null,
      "outputs": []
    },
    {
      "cell_type": "markdown",
      "source": [
        "### Data transformations"
      ],
      "metadata": {
        "id": "Kwwb23RscHrM"
      }
    },
    {
      "cell_type": "code",
      "source": [
        "transform_svhn = Compose([\n",
        "    ToTensor(),\n",
        "    Normalize(mean=[0.4377, 0.4438, 0.4728], std=[0.1201, 0.1231, 0.1052])\n",
        "])\n",
        "\n",
        "\n",
        "transform_mnist = Compose([\n",
        "    Resize((32, 32)),\n",
        "    Grayscale(num_output_channels=3),\n",
        "    ToTensor(),\n",
        "    Normalize(mean=[0.1307, 0.1307, 0.1307], std=[0.3015, 0.3015, 0.3015])\n",
        "])"
      ],
      "metadata": {
        "execution": {
          "iopub.status.busy": "2024-04-02T15:40:12.770416Z",
          "iopub.execute_input": "2024-04-02T15:40:12.770738Z",
          "iopub.status.idle": "2024-04-02T15:40:12.779525Z",
          "shell.execute_reply.started": "2024-04-02T15:40:12.770697Z",
          "shell.execute_reply": "2024-04-02T15:40:12.778600Z"
        },
        "trusted": true,
        "id": "PPxxuncKcHrM"
      },
      "execution_count": null,
      "outputs": []
    },
    {
      "cell_type": "markdown",
      "source": [
        "### loading the datasets"
      ],
      "metadata": {
        "id": "3iCMQ9F_cHrM"
      }
    },
    {
      "cell_type": "code",
      "source": [
        "train_dataset_svhn = SVHN(root='./data', split='train', download=True, transform=transform_svhn)\n",
        "test_dataset_svhn = SVHN(root='./data', split='test', download=True, transform=transform_svhn)\n",
        "\n",
        "train_loader_svhn = DataLoader(dataset=train_dataset_svhn, batch_size=16, shuffle=True, num_workers=2)\n",
        "test_loader_svhn = DataLoader(dataset=test_dataset_svhn, batch_size=16, shuffle=False, num_workers=2)\n",
        "\n",
        "train_dataset_mnist = MNIST(root='./data', train=True, download=True, transform=transform_mnist)\n",
        "test_dataset_mnist = MNIST(root='./data', train=False, download=True, transform=transform_mnist)\n",
        "\n",
        "train_loader_mnist = DataLoader(dataset=train_dataset_mnist, batch_size=16, shuffle=True, num_workers=2)\n",
        "test_loader_mnist = DataLoader(dataset=test_dataset_mnist, batch_size=16, shuffle=False, num_workers=2)\n",
        "\n",
        "print(\"Data loaders have been created.\")"
      ],
      "metadata": {
        "execution": {
          "iopub.status.busy": "2024-04-02T15:40:50.158306Z",
          "iopub.execute_input": "2024-04-02T15:40:50.158658Z",
          "iopub.status.idle": "2024-04-02T15:41:25.260807Z",
          "shell.execute_reply.started": "2024-04-02T15:40:50.158629Z",
          "shell.execute_reply": "2024-04-02T15:41:25.259895Z"
        },
        "trusted": true,
        "colab": {
          "base_uri": "https://localhost:8080/"
        },
        "id": "ajM_L4zgcHrN",
        "outputId": "06f32a26-b71a-47f3-c11b-37f904e91008"
      },
      "execution_count": null,
      "outputs": [
        {
          "output_type": "stream",
          "name": "stdout",
          "text": [
            "Using downloaded and verified file: ./data/train_32x32.mat\n",
            "Using downloaded and verified file: ./data/test_32x32.mat\n",
            "Data loaders have been created.\n"
          ]
        }
      ]
    },
    {
      "cell_type": "markdown",
      "source": [
        "###  Initialize the Model, Loss Function, and Optimizer"
      ],
      "metadata": {
        "id": "JSRv1dVmcHrN"
      }
    },
    {
      "cell_type": "code",
      "source": [
        "device = torch.device('cuda' if torch.cuda.is_available() else 'cpu')\n",
        "model.to(device)\n",
        "optimizer = optim.Adam(model.parameters(), lr=0.001)\n",
        "scheduler = optim.lr_scheduler.ExponentialLR(optimizer, gamma=0.99)\n",
        "criterion = nn.CrossEntropyLoss()"
      ],
      "metadata": {
        "execution": {
          "iopub.status.busy": "2024-04-02T15:42:01.255798Z",
          "iopub.execute_input": "2024-04-02T15:42:01.256178Z",
          "iopub.status.idle": "2024-04-02T15:42:01.429598Z",
          "shell.execute_reply.started": "2024-04-02T15:42:01.256152Z",
          "shell.execute_reply": "2024-04-02T15:42:01.428862Z"
        },
        "trusted": true,
        "id": "_NAn9d14cHrO"
      },
      "execution_count": null,
      "outputs": []
    },
    {
      "cell_type": "markdown",
      "source": [
        "###  Fine-tune the model on the SVHN dataset"
      ],
      "metadata": {
        "id": "6kkOHBuycHrO"
      }
    },
    {
      "cell_type": "code",
      "source": [
        "num_epochs = 10\n",
        "losses = []\n",
        "\n",
        "for epoch in tqdm(range(num_epochs), desc='Training Epochs'):\n",
        "    model.train()\n",
        "    running_loss = 0.0\n",
        "    correct = 0\n",
        "    total = 0\n",
        "    for images, labels in train_loader_svhn:\n",
        "        images, labels = images.to(device), labels.to(device)\n",
        "\n",
        "        optimizer.zero_grad()\n",
        "        outputs = model(images)\n",
        "        loss = criterion(outputs, labels)\n",
        "        loss.backward()\n",
        "        optimizer.step()\n",
        "\n",
        "        running_loss += loss.item()\n",
        "        _, predicted = outputs.max(1)\n",
        "        total += labels.size(0)\n",
        "        correct += predicted.eq(labels).sum().item()\n",
        "\n",
        "    epoch_loss = running_loss / len(train_loader_svhn)\n",
        "    losses.append(epoch_loss)\n",
        "    scheduler.step()\n",
        "\n",
        "    print(f'Epoch {epoch+1}/{num_epochs}, Training Loss: {epoch_loss:.4f}, Training Accuracy: {100.*correct/total:.2f}%')"
      ],
      "metadata": {
        "execution": {
          "iopub.status.busy": "2024-04-02T15:42:05.225615Z",
          "iopub.execute_input": "2024-04-02T15:42:05.225969Z",
          "iopub.status.idle": "2024-04-02T15:52:27.601351Z",
          "shell.execute_reply.started": "2024-04-02T15:42:05.225940Z",
          "shell.execute_reply": "2024-04-02T15:52:27.600208Z"
        },
        "trusted": true,
        "colab": {
          "base_uri": "https://localhost:8080/"
        },
        "id": "J9aZMJO_cHrO",
        "outputId": "543bd29a-1364-4660-ca6b-23b329a018ad"
      },
      "execution_count": null,
      "outputs": [
        {
          "output_type": "stream",
          "name": "stderr",
          "text": [
            "Training Epochs:  10%|█         | 1/10 [01:32<13:49, 92.14s/it]"
          ]
        },
        {
          "output_type": "stream",
          "name": "stdout",
          "text": [
            "Epoch 1/10, Training Loss: 0.6890, Training Accuracy: 79.64%\n"
          ]
        },
        {
          "output_type": "stream",
          "name": "stderr",
          "text": [
            "\rTraining Epochs:  20%|██        | 2/10 [02:59<11:56, 89.53s/it]"
          ]
        },
        {
          "output_type": "stream",
          "name": "stdout",
          "text": [
            "Epoch 2/10, Training Loss: 0.3800, Training Accuracy: 89.30%\n"
          ]
        },
        {
          "output_type": "stream",
          "name": "stderr",
          "text": [
            "\rTraining Epochs:  30%|███       | 3/10 [04:27<10:20, 88.71s/it]"
          ]
        },
        {
          "output_type": "stream",
          "name": "stdout",
          "text": [
            "Epoch 3/10, Training Loss: 0.2950, Training Accuracy: 91.60%\n"
          ]
        },
        {
          "output_type": "stream",
          "name": "stderr",
          "text": [
            "\rTraining Epochs:  40%|████      | 4/10 [06:00<09:01, 90.28s/it]"
          ]
        },
        {
          "output_type": "stream",
          "name": "stdout",
          "text": [
            "Epoch 4/10, Training Loss: 0.2414, Training Accuracy: 93.12%\n"
          ]
        },
        {
          "output_type": "stream",
          "name": "stderr",
          "text": [
            "\rTraining Epochs:  50%|█████     | 5/10 [07:28<07:26, 89.36s/it]"
          ]
        },
        {
          "output_type": "stream",
          "name": "stdout",
          "text": [
            "Epoch 5/10, Training Loss: 0.2046, Training Accuracy: 94.12%\n"
          ]
        },
        {
          "output_type": "stream",
          "name": "stderr",
          "text": [
            "\rTraining Epochs:  60%|██████    | 6/10 [08:56<05:56, 89.08s/it]"
          ]
        },
        {
          "output_type": "stream",
          "name": "stdout",
          "text": [
            "Epoch 6/10, Training Loss: 0.1698, Training Accuracy: 95.17%\n"
          ]
        },
        {
          "output_type": "stream",
          "name": "stderr",
          "text": [
            "\rTraining Epochs:  70%|███████   | 7/10 [10:25<04:27, 89.01s/it]"
          ]
        },
        {
          "output_type": "stream",
          "name": "stdout",
          "text": [
            "Epoch 7/10, Training Loss: 0.1426, Training Accuracy: 95.90%\n"
          ]
        },
        {
          "output_type": "stream",
          "name": "stderr",
          "text": [
            "\rTraining Epochs:  80%|████████  | 8/10 [11:54<02:58, 89.09s/it]"
          ]
        },
        {
          "output_type": "stream",
          "name": "stdout",
          "text": [
            "Epoch 8/10, Training Loss: 0.1227, Training Accuracy: 96.47%\n"
          ]
        },
        {
          "output_type": "stream",
          "name": "stderr",
          "text": [
            "\rTraining Epochs:  90%|█████████ | 9/10 [13:22<01:28, 88.70s/it]"
          ]
        },
        {
          "output_type": "stream",
          "name": "stdout",
          "text": [
            "Epoch 9/10, Training Loss: 0.1020, Training Accuracy: 97.01%\n"
          ]
        },
        {
          "output_type": "stream",
          "name": "stderr",
          "text": [
            "Training Epochs: 100%|██████████| 10/10 [14:50<00:00, 89.09s/it]"
          ]
        },
        {
          "output_type": "stream",
          "name": "stdout",
          "text": [
            "Epoch 10/10, Training Loss: 0.0867, Training Accuracy: 97.47%\n"
          ]
        },
        {
          "output_type": "stream",
          "name": "stderr",
          "text": [
            "\n"
          ]
        }
      ]
    },
    {
      "cell_type": "markdown",
      "source": [
        "### plotting the loss"
      ],
      "metadata": {
        "id": "o4jkY957cHrP"
      }
    },
    {
      "cell_type": "code",
      "source": [
        "plt.figure(figsize=(10, 5))\n",
        "plt.plot(range(1, num_epochs+1), losses, marker='o', color='blue', label='Training Loss')\n",
        "plt.title(\"Training Loss\")\n",
        "plt.xlabel(\"Epoch\")\n",
        "plt.ylabel(\"Loss\")\n",
        "plt.grid(True)\n",
        "plt.legend()\n",
        "plt.show()"
      ],
      "metadata": {
        "execution": {
          "iopub.status.busy": "2024-04-02T15:52:32.920490Z",
          "iopub.execute_input": "2024-04-02T15:52:32.921141Z",
          "iopub.status.idle": "2024-04-02T15:52:33.244109Z",
          "shell.execute_reply.started": "2024-04-02T15:52:32.921100Z",
          "shell.execute_reply": "2024-04-02T15:52:33.243183Z"
        },
        "trusted": true,
        "colab": {
          "base_uri": "https://localhost:8080/",
          "height": 487
        },
        "id": "0rjl3xHhcHrP",
        "outputId": "5af9a39c-1cb1-46d8-f1a2-5873aae4e3af"
      },
      "execution_count": null,
      "outputs": [
        {
          "output_type": "display_data",
          "data": {
            "text/plain": [
              "<Figure size 1000x500 with 1 Axes>"
            ],
            "image/png": "[encoded data removed]"
          },
          "metadata": {}
        }
      ]
    },
    {
      "cell_type": "markdown",
      "source": [
        "### Define Testing model"
      ],
      "metadata": {
        "id": "DhoLE5RzcHrP"
      }
    },
    {
      "cell_type": "code",
      "source": [
        "def test_model(model, test_loader):\n",
        "    model.eval()\n",
        "    correct = 0\n",
        "    total = 0\n",
        "    with torch.no_grad():\n",
        "        for images, labels in test_loader:\n",
        "            images, labels = images.to(device), labels.to(device)\n",
        "            outputs = model(images)\n",
        "            _, predicted = torch.max(outputs.data, 1)\n",
        "            total += labels.size(0)\n",
        "            correct += (predicted == labels).sum().item()\n",
        "\n",
        "    accuracy = 100 * correct / total\n",
        "    print(f'Accuracy: {accuracy:.2f}%')\n",
        "    return accuracy"
      ],
      "metadata": {
        "execution": {
          "iopub.status.busy": "2024-04-02T15:52:37.571021Z",
          "iopub.execute_input": "2024-04-02T15:52:37.571715Z",
          "iopub.status.idle": "2024-04-02T15:52:37.578331Z",
          "shell.execute_reply.started": "2024-04-02T15:52:37.571684Z",
          "shell.execute_reply": "2024-04-02T15:52:37.577202Z"
        },
        "trusted": true,
        "id": "UmQ2P_ficHrP"
      },
      "execution_count": null,
      "outputs": []
    },
    {
      "cell_type": "markdown",
      "source": [
        "### Test the fine-tuned model on both the SVHN and MNIST datasets"
      ],
      "metadata": {
        "id": "DmiL1WSNcHrQ"
      }
    },
    {
      "cell_type": "code",
      "source": [
        "accuracy_svhn = test_model(model, test_loader_svhn)\n",
        "accuracy_mnist = test_model(model, test_loader_mnist)"
      ],
      "metadata": {
        "execution": {
          "iopub.status.busy": "2024-04-02T15:53:17.241737Z",
          "iopub.execute_input": "2024-04-02T15:53:17.242638Z",
          "iopub.status.idle": "2024-04-02T15:53:30.697278Z",
          "shell.execute_reply.started": "2024-04-02T15:53:17.242604Z",
          "shell.execute_reply": "2024-04-02T15:53:30.696161Z"
        },
        "trusted": true,
        "colab": {
          "base_uri": "https://localhost:8080/"
        },
        "id": "DRu4rmOHcHrQ",
        "outputId": "67610c6d-0d99-449e-cc44-0588c6da7c5d"
      },
      "execution_count": null,
      "outputs": [
        {
          "output_type": "stream",
          "name": "stdout",
          "text": [
            "Accuracy: 93.60%\n",
            "Accuracy: 72.23%\n"
          ]
        }
      ]
    }
  ]
}