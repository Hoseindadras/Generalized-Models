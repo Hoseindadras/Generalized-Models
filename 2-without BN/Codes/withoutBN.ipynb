{
  "metadata": {
    "colab": {
      "provenance": [],
      "gpuType": "T4"
    },
    "kernelspec": {
      "name": "python3",
      "display_name": "Python 3",
      "language": "python"
    },
    "language_info": {
      "name": "python",
      "version": "3.10.13",
      "mimetype": "text/x-python",
      "codemirror_mode": {
        "name": "ipython",
        "version": 3
      },
      "pygments_lexer": "ipython3",
      "nbconvert_exporter": "python",
      "file_extension": ".py"
    },
    "accelerator": "GPU",
    "kaggle": {
      "accelerator": "nvidiaTeslaT4",
      "dataSources": [],
      "dockerImageVersionId": 30674,
      "isInternetEnabled": true,
      "language": "python",
      "sourceType": "notebook",
      "isGpuEnabled": true
    }
  },
  "nbformat_minor": 0,
  "nbformat": 4,
  "cells": [
    {
      "cell_type": "markdown",
      "source": [
        "## Import Required Libraries"
      ],
      "metadata": {
        "id": "n-MeHnOhzoSF"
      }
    },
    {
      "cell_type": "code",
      "source": [
        "import torch\n",
        "import torchvision\n",
        "import torch.nn as nn\n",
        "import torch.nn.functional as F\n",
        "import torchvision.transforms as transforms\n",
        "import torchvision.datasets as datasets\n",
        "from torch.utils.data import DataLoader\n",
        "from torchvision.datasets import SVHN, MNIST\n",
        "from torchvision.transforms import Compose, Resize, Grayscale, ToTensor, Normalize\n",
        "from tqdm import tqdm\n",
        "import matplotlib.pyplot as plt\n",
        "from typing import Type, List\n",
        "import torch.optim as optim"
      ],
      "metadata": {
        "id": "9ikAnUfxzdhY",
        "execution": {
          "iopub.status.busy": "2024-04-02T10:49:10.321903Z",
          "iopub.execute_input": "2024-04-02T10:49:10.322246Z",
          "iopub.status.idle": "2024-04-02T10:49:18.067864Z",
          "shell.execute_reply.started": "2024-04-02T10:49:10.322221Z",
          "shell.execute_reply": "2024-04-02T10:49:18.066926Z"
        },
        "trusted": true
      },
      "execution_count": 1,
      "outputs": []
    },
    {
      "cell_type": "markdown",
      "source": [
        "## Define the ResNet Block without batch normalization"
      ],
      "metadata": {
        "id": "MRopTwc5zsmG"
      }
    },
    {
      "cell_type": "code",
      "source": [
        "class BasicBlock(nn.Module):\n",
        "    expansion = 1\n",
        "\n",
        "    def __init__(self, in_channels, out_channels, stride=1, downsample=None):\n",
        "        super(BasicBlock, self).__init__()\n",
        "        self.conv1 = nn.Conv2d(in_channels, out_channels, kernel_size=3, stride=stride, padding=1, bias=False)\n",
        "        self.relu = nn.ReLU(inplace=True)\n",
        "        self.conv2 = nn.Conv2d(out_channels, out_channels, kernel_size=3, stride=1, padding=1, bias=False)\n",
        "        self.downsample = downsample\n",
        "\n",
        "    def forward(self, x):\n",
        "        identity = x if self.downsample is None else self.downsample(x)\n",
        "\n",
        "        out = self.conv1(x)\n",
        "        out = self.relu(out)\n",
        "        out = self.conv2(out)\n",
        "\n",
        "        if self.downsample is not None:\n",
        "            identity = self.downsample(x)\n",
        "\n",
        "        out += identity\n",
        "        out = self.relu(out)\n",
        "        return out"
      ],
      "metadata": {
        "id": "Y7PmfSuxzsHM",
        "execution": {
          "iopub.status.busy": "2024-04-02T10:49:18.069903Z",
          "iopub.execute_input": "2024-04-02T10:49:18.070260Z",
          "iopub.status.idle": "2024-04-02T10:49:18.078354Z",
          "shell.execute_reply.started": "2024-04-02T10:49:18.070237Z",
          "shell.execute_reply": "2024-04-02T10:49:18.077432Z"
        },
        "trusted": true
      },
      "execution_count": 2,
      "outputs": []
    },
    {
      "cell_type": "markdown",
      "source": [
        "## Define the ResNet model  without batch normalization"
      ],
      "metadata": {
        "id": "cL3kSoGpzv_t"
      }
    },
    {
      "cell_type": "code",
      "source": [
        "class ResNet(nn.Module):\n",
        "    def __init__(self, block, layers, num_classes=10, img_channels=3):\n",
        "        super(ResNet, self).__init__()\n",
        "        self.in_channels = 64\n",
        "        self.conv1 = nn.Conv2d(img_channels, 64, kernel_size=7, stride=2, padding=3, bias=False)\n",
        "        self.relu = nn.ReLU(inplace=True)\n",
        "        self.maxpool = nn.MaxPool2d(kernel_size=3, stride=2, padding=1)\n",
        "        self.layer1 = self._make_layer(block, 64, layers[0])\n",
        "        self.layer2 = self._make_layer(block, 128, layers[1], stride=2)\n",
        "        self.layer3 = self._make_layer(block, 256, layers[2], stride=2)\n",
        "        self.layer4 = self._make_layer(block, 512, layers[3], stride=2)\n",
        "        self.avgpool = nn.AdaptiveAvgPool2d((1, 1))\n",
        "        self.fc = nn.Linear(512 * block.expansion, num_classes)\n",
        "\n",
        "    def _make_layer(self, block, out_channels, blocks, stride=1):\n",
        "        downsample = None\n",
        "        if stride != 1 or self.in_channels != out_channels * block.expansion:\n",
        "            downsample = nn.Sequential(\n",
        "                nn.Conv2d(self.in_channels, out_channels * block.expansion, kernel_size=1, stride=stride, bias=False),\n",
        "            )\n",
        "\n",
        "        layers = [block(self.in_channels, out_channels, stride, downsample)]\n",
        "        self.in_channels = out_channels * block.expansion\n",
        "        for _ in range(1, blocks):\n",
        "            layers.append(block(self.in_channels, out_channels))\n",
        "\n",
        "        return nn.Sequential(*layers)\n",
        "\n",
        "    def forward(self, x):\n",
        "        x = self.conv1(x)\n",
        "        x = self.relu(x)\n",
        "        x = self.maxpool(x)\n",
        "        x = self.layer1(x)\n",
        "        x = self.layer2(x)\n",
        "        x = self.layer3(x)\n",
        "        x = self.layer4(x)\n",
        "        x = self.avgpool(x)\n",
        "        x = torch.flatten(x, 1)\n",
        "        x = self.fc(x)\n",
        "        return x\n",
        "\n",
        "def resnet18_no_bn(num_classes=10, img_channels=3):\n",
        "    return ResNet(BasicBlock, [2, 2, 2, 2], num_classes, img_channels)"
      ],
      "metadata": {
        "id": "KxnALIcvzrzA",
        "execution": {
          "iopub.status.busy": "2024-04-02T10:49:18.079381Z",
          "iopub.execute_input": "2024-04-02T10:49:18.079638Z",
          "iopub.status.idle": "2024-04-02T10:49:18.093006Z",
          "shell.execute_reply.started": "2024-04-02T10:49:18.079615Z",
          "shell.execute_reply": "2024-04-02T10:49:18.092174Z"
        },
        "trusted": true
      },
      "execution_count": 3,
      "outputs": []
    },
    {
      "cell_type": "markdown",
      "source": [
        "## Preprocess the Datasets"
      ],
      "metadata": {
        "id": "HWCti2TBzz_v"
      }
    },
    {
      "cell_type": "code",
      "source": [
        "transform_svhn = Compose([\n",
        "    ToTensor(),\n",
        "    Normalize(mean=[0.4377, 0.4438, 0.4728], std=[0.1201, 0.1231, 0.1052])\n",
        "])\n",
        "\n",
        "transform_mnist = Compose([\n",
        "    Resize((32, 32)),\n",
        "    Grayscale(num_output_channels=3),\n",
        "    ToTensor(),\n",
        "    Normalize(mean=[0.1307, 0.1307, 0.1307], std=[0.3015, 0.3015, 0.3015])\n",
        "])\n"
      ],
      "metadata": {
        "id": "w1f2POERz4nX",
        "execution": {
          "iopub.status.busy": "2024-04-02T10:49:18.093950Z",
          "iopub.execute_input": "2024-04-02T10:49:18.094214Z",
          "iopub.status.idle": "2024-04-02T10:49:18.107550Z",
          "shell.execute_reply.started": "2024-04-02T10:49:18.094192Z",
          "shell.execute_reply": "2024-04-02T10:49:18.106600Z"
        },
        "trusted": true
      },
      "execution_count": 4,
      "outputs": []
    },
    {
      "cell_type": "markdown",
      "source": [
        "## Load Datasets"
      ],
      "metadata": {
        "id": "340eAersz7GC"
      }
    },
    {
      "cell_type": "code",
      "source": [
        "train_dataset_svhn = datasets.SVHN(root='./data', split='train', download=True, transform=transform_svhn)\n",
        "train_loader_svhn = DataLoader(train_dataset_svhn, batch_size=16, shuffle=True)\n",
        "\n",
        "test_dataset_svhn = datasets.SVHN(root='./data', split='test', download=True, transform=transform_svhn)\n",
        "test_loader_svhn = DataLoader(test_dataset_svhn, batch_size=16, shuffle=False)\n",
        "\n",
        "test_dataset_mnist = datasets.MNIST(root='./data', train=False, download=True, transform=transform_mnist)\n",
        "test_loader_mnist = DataLoader(test_dataset_mnist, batch_size=16, shuffle=False)"
      ],
      "metadata": {
        "id": "WWX-TEvUz7nE",
        "colab": {
          "base_uri": "https://localhost:8080/"
        },
        "outputId": "d3b68aa8-5403-48a5-8a18-b63018fe3db5",
        "execution": {
          "iopub.status.busy": "2024-04-02T10:49:18.110384Z",
          "iopub.execute_input": "2024-04-02T10:49:18.110728Z",
          "iopub.status.idle": "2024-04-02T10:49:54.840452Z",
          "shell.execute_reply.started": "2024-04-02T10:49:18.110698Z",
          "shell.execute_reply": "2024-04-02T10:49:54.839543Z"
        },
        "trusted": true
      },
      "execution_count": 5,
      "outputs": [
        {
          "output_type": "stream",
          "name": "stdout",
          "text": [
            "Using downloaded and verified file: ./data/train_32x32.mat\n",
            "Using downloaded and verified file: ./data/test_32x32.mat\n"
          ]
        }
      ]
    },
    {
      "cell_type": "markdown",
      "source": [
        "## Initialization"
      ],
      "metadata": {
        "id": "US7QjFk0z-gR"
      }
    },
    {
      "cell_type": "code",
      "source": [
        "device = torch.device('cuda' if torch.cuda.is_available() else 'cpu')\n",
        "model = resnet18_no_bn().to(device)\n",
        "optimizer = optim.SGD(model.parameters(), lr=0.001, momentum=0.9)\n",
        "scheduler = optim.lr_scheduler.ExponentialLR(optimizer, gamma=0.99)\n",
        "criterion = nn.CrossEntropyLoss()"
      ],
      "metadata": {
        "execution": {
          "iopub.status.busy": "2024-04-02T10:50:29.311984Z",
          "iopub.execute_input": "2024-04-02T10:50:29.312319Z",
          "iopub.status.idle": "2024-04-02T10:50:29.632783Z",
          "shell.execute_reply.started": "2024-04-02T10:50:29.312294Z",
          "shell.execute_reply": "2024-04-02T10:50:29.632032Z"
        },
        "trusted": true,
        "id": "RFDtQvvx-bOk"
      },
      "execution_count": 6,
      "outputs": []
    },
    {
      "cell_type": "markdown",
      "source": [
        "## Training definition - loop"
      ],
      "metadata": {
        "id": "aDM-xWRl-bOl"
      }
    },
    {
      "cell_type": "code",
      "source": [
        "num_epochs = 10\n",
        "losses = []\n",
        "\n",
        "for epoch in tqdm(range(num_epochs), desc='Training Epochs'):\n",
        "    model.train()\n",
        "    running_loss = 0.0\n",
        "    correct = 0\n",
        "    total = 0\n",
        "    for images, labels in train_loader_svhn:\n",
        "        images, labels = images.to(device), labels.to(device)\n",
        "\n",
        "        optimizer.zero_grad()\n",
        "        outputs = model(images)\n",
        "        loss = criterion(outputs, labels)\n",
        "        loss.backward()\n",
        "        optimizer.step()\n",
        "\n",
        "        running_loss += loss.item()\n",
        "        _, predicted = outputs.max(1)\n",
        "        total += labels.size(0)\n",
        "        correct += predicted.eq(labels).sum().item()\n",
        "\n",
        "    epoch_loss = running_loss / len(train_loader_svhn)\n",
        "    losses.append(epoch_loss)\n",
        "    scheduler.step()\n",
        "\n",
        "    print(f'Epoch {epoch+1}/{num_epochs}, Training Loss: {epoch_loss:.4f}, Training Accuracy: {100.*correct/total:.2f}%')"
      ],
      "metadata": {
        "id": "m33rSUaOz_Dl",
        "colab": {
          "base_uri": "https://localhost:8080/"
        },
        "outputId": "6c3d9654-1591-473f-b330-984665e93c41",
        "execution": {
          "iopub.status.busy": "2024-04-02T10:50:33.504010Z",
          "iopub.execute_input": "2024-04-02T10:50:33.504365Z",
          "iopub.status.idle": "2024-04-02T11:00:26.863931Z",
          "shell.execute_reply.started": "2024-04-02T10:50:33.504335Z",
          "shell.execute_reply": "2024-04-02T11:00:26.863051Z"
        },
        "trusted": true
      },
      "execution_count": 7,
      "outputs": [
        {
          "output_type": "stream",
          "name": "stderr",
          "text": [
            "Training Epochs:  10%|█         | 1/10 [01:06<09:56, 66.32s/it]"
          ]
        },
        {
          "output_type": "stream",
          "name": "stdout",
          "text": [
            "Epoch 1/10, Training Loss: 1.5663, Training Accuracy: 45.41%\n"
          ]
        },
        {
          "output_type": "stream",
          "name": "stderr",
          "text": [
            "\rTraining Epochs:  20%|██        | 2/10 [02:07<08:27, 63.39s/it]"
          ]
        },
        {
          "output_type": "stream",
          "name": "stdout",
          "text": [
            "Epoch 2/10, Training Loss: 0.5110, Training Accuracy: 84.87%\n"
          ]
        },
        {
          "output_type": "stream",
          "name": "stderr",
          "text": [
            "\rTraining Epochs:  30%|███       | 3/10 [03:08<07:15, 62.28s/it]"
          ]
        },
        {
          "output_type": "stream",
          "name": "stdout",
          "text": [
            "Epoch 3/10, Training Loss: 0.3865, Training Accuracy: 88.66%\n"
          ]
        },
        {
          "output_type": "stream",
          "name": "stderr",
          "text": [
            "\rTraining Epochs:  40%|████      | 4/10 [04:09<06:09, 61.63s/it]"
          ]
        },
        {
          "output_type": "stream",
          "name": "stdout",
          "text": [
            "Epoch 4/10, Training Loss: 0.3241, Training Accuracy: 90.62%\n"
          ]
        },
        {
          "output_type": "stream",
          "name": "stderr",
          "text": [
            "\rTraining Epochs:  50%|█████     | 5/10 [05:09<05:06, 61.31s/it]"
          ]
        },
        {
          "output_type": "stream",
          "name": "stdout",
          "text": [
            "Epoch 5/10, Training Loss: 0.2820, Training Accuracy: 91.93%\n"
          ]
        },
        {
          "output_type": "stream",
          "name": "stderr",
          "text": [
            "\rTraining Epochs:  60%|██████    | 6/10 [06:10<04:04, 61.13s/it]"
          ]
        },
        {
          "output_type": "stream",
          "name": "stdout",
          "text": [
            "Epoch 6/10, Training Loss: 0.2472, Training Accuracy: 92.78%\n"
          ]
        },
        {
          "output_type": "stream",
          "name": "stderr",
          "text": [
            "\rTraining Epochs:  70%|███████   | 7/10 [07:11<03:03, 61.06s/it]"
          ]
        },
        {
          "output_type": "stream",
          "name": "stdout",
          "text": [
            "Epoch 7/10, Training Loss: 0.2202, Training Accuracy: 93.67%\n"
          ]
        },
        {
          "output_type": "stream",
          "name": "stderr",
          "text": [
            "\rTraining Epochs:  80%|████████  | 8/10 [08:12<02:02, 61.02s/it]"
          ]
        },
        {
          "output_type": "stream",
          "name": "stdout",
          "text": [
            "Epoch 8/10, Training Loss: 0.1907, Training Accuracy: 94.51%\n"
          ]
        },
        {
          "output_type": "stream",
          "name": "stderr",
          "text": [
            "\rTraining Epochs:  90%|█████████ | 9/10 [09:13<01:00, 60.96s/it]"
          ]
        },
        {
          "output_type": "stream",
          "name": "stdout",
          "text": [
            "Epoch 9/10, Training Loss: 0.1716, Training Accuracy: 95.06%\n"
          ]
        },
        {
          "output_type": "stream",
          "name": "stderr",
          "text": [
            "Training Epochs: 100%|██████████| 10/10 [10:14<00:00, 61.40s/it]"
          ]
        },
        {
          "output_type": "stream",
          "name": "stdout",
          "text": [
            "Epoch 10/10, Training Loss: 0.1463, Training Accuracy: 95.75%\n"
          ]
        },
        {
          "output_type": "stream",
          "name": "stderr",
          "text": [
            "\n"
          ]
        }
      ]
    },
    {
      "cell_type": "markdown",
      "source": [
        "## Plotting the training loss"
      ],
      "metadata": {
        "id": "M7koAmw20BiE"
      }
    },
    {
      "cell_type": "code",
      "source": [
        "plt.figure(figsize=(10, 5))\n",
        "plt.plot(range(1, num_epochs+1), losses, marker='o', color='blue', label='Training Loss')\n",
        "plt.title(\"Training Loss\")\n",
        "plt.xlabel(\"Epoch\")\n",
        "plt.ylabel(\"Loss\")\n",
        "plt.grid(True)\n",
        "plt.legend()\n",
        "plt.show()"
      ],
      "metadata": {
        "id": "1ZI2EwjL0B8y",
        "colab": {
          "base_uri": "https://localhost:8080/",
          "height": 487
        },
        "outputId": "787de645-018c-4d79-d4cf-44c1677271ee",
        "execution": {
          "iopub.status.busy": "2024-04-02T11:00:29.931244Z",
          "iopub.execute_input": "2024-04-02T11:00:29.931900Z",
          "iopub.status.idle": "2024-04-02T11:00:30.257508Z",
          "shell.execute_reply.started": "2024-04-02T11:00:29.931859Z",
          "shell.execute_reply": "2024-04-02T11:00:30.256588Z"
        },
        "trusted": true
      },
      "execution_count": 12,
      "outputs": [
        {
          "output_type": "display_data",
          "data": {
            "text/plain": [
              "<Figure size 1000x500 with 1 Axes>"
            ],
            "image/png": "[encoded data removed]"
          },
          "metadata": {}
        }
      ]
    },
    {
      "cell_type": "markdown",
      "source": [
        "## Testing the Model"
      ],
      "metadata": {
        "id": "BSC-SIrM0EO7"
      }
    },
    {
      "cell_type": "code",
      "source": [
        "def test_model(model, test_loader):\n",
        "    model.eval()\n",
        "    correct = 0\n",
        "    total = 0\n",
        "    with torch.no_grad():\n",
        "        for images, labels in test_loader:\n",
        "            images, labels = images.to(device), labels.to(device)\n",
        "            outputs = model(images)\n",
        "            _, predicted = torch.max(outputs.data, 1)\n",
        "            total += labels.size(0)\n",
        "            correct += (predicted == labels).sum().item()\n",
        "\n",
        "    accuracy = 100 * correct / total\n",
        "    print(f'Accuracy: {accuracy:.2f}%')\n",
        "    return accuracy"
      ],
      "metadata": {
        "id": "QiGhuC2P0E-T",
        "execution": {
          "iopub.status.busy": "2024-04-02T11:00:34.285634Z",
          "iopub.execute_input": "2024-04-02T11:00:34.286448Z",
          "iopub.status.idle": "2024-04-02T11:00:34.292583Z",
          "shell.execute_reply.started": "2024-04-02T11:00:34.286419Z",
          "shell.execute_reply": "2024-04-02T11:00:34.291719Z"
        },
        "trusted": true
      },
      "execution_count": 13,
      "outputs": []
    },
    {
      "cell_type": "markdown",
      "source": [
        "## Test on SVHN"
      ],
      "metadata": {
        "id": "54fAOKB20HdT"
      }
    },
    {
      "cell_type": "code",
      "source": [
        "accuracy_svhn = test_model(model, test_loader_svhn)"
      ],
      "metadata": {
        "id": "qFL1OXSs0H8P",
        "colab": {
          "base_uri": "https://localhost:8080/"
        },
        "outputId": "6b056007-dbcf-480c-e6da-346462356b08",
        "execution": {
          "iopub.status.busy": "2024-04-02T11:00:36.774082Z",
          "iopub.execute_input": "2024-04-02T11:00:36.774950Z",
          "iopub.status.idle": "2024-04-02T11:00:50.155530Z",
          "shell.execute_reply.started": "2024-04-02T11:00:36.774916Z",
          "shell.execute_reply": "2024-04-02T11:00:50.154512Z"
        },
        "trusted": true
      },
      "execution_count": 14,
      "outputs": [
        {
          "output_type": "stream",
          "name": "stdout",
          "text": [
            "Accuracy: 90.74%\n"
          ]
        }
      ]
    },
    {
      "cell_type": "markdown",
      "source": [
        "## Test on MNIST"
      ],
      "metadata": {
        "id": "tEaOR0XV0KA3"
      }
    },
    {
      "cell_type": "code",
      "source": [
        "accuract_Mnist = test_model(model, test_loader_mnist)"
      ],
      "metadata": {
        "id": "cByoO-PP0Kcy",
        "colab": {
          "base_uri": "https://localhost:8080/"
        },
        "outputId": "7d96c233-d18a-413e-f0cb-3e014001d9c2",
        "execution": {
          "iopub.status.busy": "2024-04-02T11:00:52.553245Z",
          "iopub.execute_input": "2024-04-02T11:00:52.553867Z",
          "iopub.status.idle": "2024-04-02T11:00:59.544655Z",
          "shell.execute_reply.started": "2024-04-02T11:00:52.553836Z",
          "shell.execute_reply": "2024-04-02T11:00:59.543680Z"
        },
        "trusted": true
      },
      "execution_count": 15,
      "outputs": [
        {
          "output_type": "stream",
          "name": "stdout",
          "text": [
            "Accuracy: 62.69%\n"
          ]
        }
      ]
    }
  ]
}