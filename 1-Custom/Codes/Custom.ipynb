{
  "metadata": {
    "kernelspec": {
      "language": "python",
      "display_name": "Python 3",
      "name": "python3"
    },
    "language_info": {
      "name": "python",
      "version": "3.10.13",
      "mimetype": "text/x-python",
      "codemirror_mode": {
        "name": "ipython",
        "version": 3
      },
      "pygments_lexer": "ipython3",
      "nbconvert_exporter": "python",
      "file_extension": ".py"
    },
    "kaggle": {
      "accelerator": "nvidiaTeslaT4",
      "dataSources": [],
      "dockerImageVersionId": 30674,
      "isInternetEnabled": true,
      "language": "python",
      "sourceType": "notebook",
      "isGpuEnabled": true
    },
    "colab": {
      "provenance": []
    }
  },
  "nbformat_minor": 0,
  "nbformat": 4,
  "cells": [
    {
      "cell_type": "markdown",
      "source": [
        "### Import required libraries"
      ],
      "metadata": {
        "id": "NLRWpKI54las"
      }
    },
    {
      "cell_type": "code",
      "source": [
        "import torch\n",
        "import torchvision\n",
        "import torch.nn as nn\n",
        "import torch.nn.functional as F\n",
        "import torchvision.transforms as transforms\n",
        "import torchvision.datasets as datasets\n",
        "from torch.utils.data import DataLoader\n",
        "from torchvision.datasets import SVHN, MNIST\n",
        "from torchvision.transforms import Compose, Resize, Grayscale, ToTensor, Normalize\n",
        "from tqdm import tqdm\n",
        "import matplotlib.pyplot as plt\n",
        "from typing import Type, List\n",
        "import torch.optim as optim"
      ],
      "metadata": {
        "execution": {
          "iopub.status.busy": "2024-04-02T10:31:49.919734Z",
          "iopub.execute_input": "2024-04-02T10:31:49.920395Z",
          "iopub.status.idle": "2024-04-02T10:31:49.926191Z",
          "shell.execute_reply.started": "2024-04-02T10:31:49.920358Z",
          "shell.execute_reply": "2024-04-02T10:31:49.925270Z"
        },
        "trusted": true,
        "id": "fTnyQHiB4lav"
      },
      "execution_count": null,
      "outputs": []
    },
    {
      "cell_type": "markdown",
      "source": [
        "### Define BasicBlock"
      ],
      "metadata": {
        "id": "SnT65i844lay"
      }
    },
    {
      "cell_type": "code",
      "source": [
        "class BasicBlock(nn.Module):\n",
        "    expansion = 1\n",
        "\n",
        "    def __init__(self, in_channels, out_channels, stride=1, downsample=None):\n",
        "        super().__init__()\n",
        "        self.conv1 = nn.Conv2d(in_channels, out_channels, kernel_size=3, stride=stride, padding=1, bias=False)\n",
        "        self.bn1 = nn.BatchNorm2d(out_channels)\n",
        "        self.relu = nn.ReLU(inplace=True)\n",
        "        self.conv2 = nn.Conv2d(out_channels, out_channels, kernel_size=3, stride=1, padding=1, bias=False)\n",
        "        self.bn2 = nn.BatchNorm2d(out_channels)\n",
        "        self.downsample = downsample\n",
        "\n",
        "    def forward(self, x):\n",
        "        identity = x if self.downsample is None else self.downsample(x)\n",
        "\n",
        "        out = self.conv1(x)\n",
        "        out = self.bn1(out)\n",
        "        out = self.relu(out)\n",
        "        out = self.conv2(out)\n",
        "        out = self.bn2(out)\n",
        "\n",
        "        if self.downsample is not None:\n",
        "            identity = self.downsample(x)\n",
        "\n",
        "        out += identity\n",
        "        out = self.relu(out)\n",
        "        return out"
      ],
      "metadata": {
        "execution": {
          "iopub.status.busy": "2024-04-02T10:31:49.928101Z",
          "iopub.execute_input": "2024-04-02T10:31:49.928696Z",
          "iopub.status.idle": "2024-04-02T10:31:49.937577Z",
          "shell.execute_reply.started": "2024-04-02T10:31:49.928666Z",
          "shell.execute_reply": "2024-04-02T10:31:49.936774Z"
        },
        "trusted": true,
        "id": "OYptMpLk4lay"
      },
      "execution_count": null,
      "outputs": []
    },
    {
      "cell_type": "markdown",
      "source": [
        "### Define ResNet"
      ],
      "metadata": {
        "id": "nwWCTqgl4laz"
      }
    },
    {
      "cell_type": "code",
      "source": [
        "class ResNet(nn.Module):\n",
        "    def __init__(self, block, layers, num_classes=10, img_channels=3):\n",
        "        super().__init__()\n",
        "        self.in_channels = 64\n",
        "        self.conv1 = nn.Conv2d(img_channels, 64, kernel_size=7, stride=2, padding=3, bias=False)\n",
        "        self.bn1 = nn.BatchNorm2d(64)\n",
        "        self.relu = nn.ReLU(inplace=True)\n",
        "        self.maxpool = nn.MaxPool2d(kernel_size=3, stride=2, padding=1)\n",
        "        self.layer1 = self._make_layer(block, 64, layers[0])\n",
        "        self.layer2 = self._make_layer(block, 128, layers[1], stride=2)\n",
        "        self.layer3 = self._make_layer(block, 256, layers[2], stride=2)\n",
        "        self.layer4 = self._make_layer(block, 512, layers[3], stride=2)\n",
        "        self.avgpool = nn.AdaptiveAvgPool2d((1, 1))\n",
        "        self.fc = nn.Linear(512 * block.expansion, num_classes)\n",
        "\n",
        "    def _make_layer(self, block, out_channels, blocks, stride=1):\n",
        "        downsample = None\n",
        "        if stride != 1 or self.in_channels != out_channels * block.expansion:\n",
        "            downsample = nn.Sequential(\n",
        "                nn.Conv2d(self.in_channels, out_channels * block.expansion, kernel_size=1, stride=stride, bias=False),\n",
        "                nn.BatchNorm2d(out_channels * block.expansion),\n",
        "            )\n",
        "        layers = [block(self.in_channels, out_channels, stride, downsample)]\n",
        "        self.in_channels = out_channels * block.expansion\n",
        "        for _ in range(1, blocks):\n",
        "            layers.append(block(self.in_channels, out_channels))\n",
        "        return nn.Sequential(*layers)\n",
        "\n",
        "    def forward(self, x):\n",
        "        x = self.conv1(x)\n",
        "        x = self.bn1(x)\n",
        "        x = self.relu(x)\n",
        "        x = self.maxpool(x)\n",
        "        x = self.layer1(x)\n",
        "        x = self.layer2(x)\n",
        "        x = self.layer3(x)\n",
        "        x = self.layer4(x)\n",
        "        x = self.avgpool(x)\n",
        "        x = torch.flatten(x, 1)\n",
        "        x = self.fc(x)\n",
        "        return x\n",
        "\n",
        "def resnet18(num_classes=10, img_channels=3):\n",
        "    return ResNet(BasicBlock, [2, 2, 2, 2], num_classes, img_channels)\n"
      ],
      "metadata": {
        "execution": {
          "iopub.status.busy": "2024-04-02T10:31:49.938661Z",
          "iopub.execute_input": "2024-04-02T10:31:49.939378Z",
          "iopub.status.idle": "2024-04-02T10:31:49.953363Z",
          "shell.execute_reply.started": "2024-04-02T10:31:49.939348Z",
          "shell.execute_reply": "2024-04-02T10:31:49.952451Z"
        },
        "trusted": true,
        "id": "W3zhBgkA4laz"
      },
      "execution_count": null,
      "outputs": []
    },
    {
      "cell_type": "markdown",
      "source": [
        "### Base transformation - DataAug"
      ],
      "metadata": {
        "id": "7fwpkVqc4la0"
      }
    },
    {
      "cell_type": "code",
      "source": [
        "transform_svhn = Compose([\n",
        "    ToTensor(),\n",
        "    Normalize(mean=[0.4377, 0.4438, 0.4728], std=[0.1201, 0.1231, 0.1052])\n",
        "])\n",
        "\n",
        "\n",
        "transform_mnist = Compose([\n",
        "    Resize((32, 32)),\n",
        "    Grayscale(num_output_channels=3),\n",
        "    ToTensor(),\n",
        "    Normalize(mean=[0.1307, 0.1307, 0.1307], std=[0.3015, 0.3015, 0.3015])\n",
        "])"
      ],
      "metadata": {
        "execution": {
          "iopub.status.busy": "2024-04-02T10:31:49.955332Z",
          "iopub.execute_input": "2024-04-02T10:31:49.955749Z",
          "iopub.status.idle": "2024-04-02T10:31:49.965826Z",
          "shell.execute_reply.started": "2024-04-02T10:31:49.955718Z",
          "shell.execute_reply": "2024-04-02T10:31:49.965042Z"
        },
        "trusted": true,
        "id": "p43OsuSQ4la0"
      },
      "execution_count": null,
      "outputs": []
    },
    {
      "cell_type": "markdown",
      "source": [
        "### loading the Datasets"
      ],
      "metadata": {
        "id": "XbsQ6Kz94la0"
      }
    },
    {
      "cell_type": "code",
      "source": [
        "train_dataset_svhn = SVHN(root='./data', split='train', download=True, transform=transform_svhn)\n",
        "test_dataset_svhn = SVHN(root='./data', split='test', download=True, transform=transform_svhn)\n",
        "\n",
        "train_loader_svhn = DataLoader(dataset=train_dataset_svhn, batch_size=16, shuffle=True, num_workers=2)\n",
        "test_loader_svhn = DataLoader(dataset=test_dataset_svhn, batch_size=16, shuffle=False, num_workers=2)\n",
        "\n",
        "train_dataset_mnist = MNIST(root='./data', train=True, download=True, transform=transform_mnist)\n",
        "test_dataset_mnist = MNIST(root='./data', train=False, download=True, transform=transform_mnist)\n",
        "\n",
        "train_loader_mnist = DataLoader(dataset=train_dataset_mnist, batch_size=16, shuffle=True, num_workers=2)\n",
        "test_loader_mnist = DataLoader(dataset=test_dataset_mnist, batch_size=16, shuffle=False, num_workers=2)\n",
        "\n",
        "print(\"Data loaders have been created.\")"
      ],
      "metadata": {
        "execution": {
          "iopub.status.busy": "2024-04-02T10:31:49.967445Z",
          "iopub.execute_input": "2024-04-02T10:31:49.967973Z",
          "iopub.status.idle": "2024-04-02T10:32:40.189490Z",
          "shell.execute_reply.started": "2024-04-02T10:31:49.967950Z",
          "shell.execute_reply": "2024-04-02T10:32:40.188534Z"
        },
        "trusted": true,
        "id": "yXpY6MkH4la1",
        "outputId": "b0a75183-481a-4a39-a421-8105f04ce121"
      },
      "execution_count": null,
      "outputs": [
        {
          "name": "stdout",
          "text": "Downloading http://ufldl.stanford.edu/housenumbers/train_32x32.mat to ./data/train_32x32.mat\n",
          "output_type": "stream"
        },
        {
          "name": "stderr",
          "text": "100%|██████████| 182040794/182040794 [00:32<00:00, 5554616.11it/s]\n",
          "output_type": "stream"
        },
        {
          "name": "stdout",
          "text": "Downloading http://ufldl.stanford.edu/housenumbers/test_32x32.mat to ./data/test_32x32.mat\n",
          "output_type": "stream"
        },
        {
          "name": "stderr",
          "text": "100%|██████████| 64275384/64275384 [00:11<00:00, 5416205.35it/s] \n",
          "output_type": "stream"
        },
        {
          "name": "stdout",
          "text": "Downloading http://yann.lecun.com/exdb/mnist/train-images-idx3-ubyte.gz\nDownloading http://yann.lecun.com/exdb/mnist/train-images-idx3-ubyte.gz to ./data/MNIST/raw/train-images-idx3-ubyte.gz\n",
          "output_type": "stream"
        },
        {
          "name": "stderr",
          "text": "100%|██████████| 9912422/9912422 [00:00<00:00, 267249331.45it/s]",
          "output_type": "stream"
        },
        {
          "name": "stdout",
          "text": "Extracting ./data/MNIST/raw/train-images-idx3-ubyte.gz to ./data/MNIST/raw\n",
          "output_type": "stream"
        },
        {
          "name": "stderr",
          "text": "\n",
          "output_type": "stream"
        },
        {
          "name": "stdout",
          "text": "\nDownloading http://yann.lecun.com/exdb/mnist/train-labels-idx1-ubyte.gz\nDownloading http://yann.lecun.com/exdb/mnist/train-labels-idx1-ubyte.gz to ./data/MNIST/raw/train-labels-idx1-ubyte.gz\n",
          "output_type": "stream"
        },
        {
          "name": "stderr",
          "text": "100%|██████████| 28881/28881 [00:00<00:00, 44210107.24it/s]\n",
          "output_type": "stream"
        },
        {
          "name": "stdout",
          "text": "Extracting ./data/MNIST/raw/train-labels-idx1-ubyte.gz to ./data/MNIST/raw\n\nDownloading http://yann.lecun.com/exdb/mnist/t10k-images-idx3-ubyte.gz\nDownloading http://yann.lecun.com/exdb/mnist/t10k-images-idx3-ubyte.gz to ./data/MNIST/raw/t10k-images-idx3-ubyte.gz\n",
          "output_type": "stream"
        },
        {
          "name": "stderr",
          "text": "100%|██████████| 1648877/1648877 [00:00<00:00, 74136434.16it/s]",
          "output_type": "stream"
        },
        {
          "name": "stdout",
          "text": "Extracting ./data/MNIST/raw/t10k-images-idx3-ubyte.gz to ./data/MNIST/raw\n",
          "output_type": "stream"
        },
        {
          "name": "stderr",
          "text": "\n",
          "output_type": "stream"
        },
        {
          "name": "stdout",
          "text": "\nDownloading http://yann.lecun.com/exdb/mnist/t10k-labels-idx1-ubyte.gz\nDownloading http://yann.lecun.com/exdb/mnist/t10k-labels-idx1-ubyte.gz to ./data/MNIST/raw/t10k-labels-idx1-ubyte.gz\n",
          "output_type": "stream"
        },
        {
          "name": "stderr",
          "text": "100%|██████████| 4542/4542 [00:00<00:00, 22126049.67it/s]\n",
          "output_type": "stream"
        },
        {
          "name": "stdout",
          "text": "Extracting ./data/MNIST/raw/t10k-labels-idx1-ubyte.gz to ./data/MNIST/raw\n\nData loaders have been created.\n",
          "output_type": "stream"
        }
      ]
    },
    {
      "cell_type": "markdown",
      "source": [
        "### metrics"
      ],
      "metadata": {
        "id": "f8rnKJxO4la2"
      }
    },
    {
      "cell_type": "code",
      "source": [
        "device = torch.device('cuda' if torch.cuda.is_available() else 'cpu')\n",
        "model = resnet18().to(device)\n",
        "optimizer = optim.SGD(model.parameters(), lr=0.001, momentum=0.9)\n",
        "scheduler = optim.lr_scheduler.ExponentialLR(optimizer, gamma=0.99)\n",
        "criterion = nn.CrossEntropyLoss()"
      ],
      "metadata": {
        "execution": {
          "iopub.status.busy": "2024-04-02T10:32:40.190729Z",
          "iopub.execute_input": "2024-04-02T10:32:40.191464Z",
          "iopub.status.idle": "2024-04-02T10:32:40.582459Z",
          "shell.execute_reply.started": "2024-04-02T10:32:40.191429Z",
          "shell.execute_reply": "2024-04-02T10:32:40.581669Z"
        },
        "trusted": true,
        "id": "K0YjxAVI4la2"
      },
      "execution_count": null,
      "outputs": []
    },
    {
      "cell_type": "markdown",
      "source": [
        "### Training"
      ],
      "metadata": {
        "id": "NgVvcLlT4la2"
      }
    },
    {
      "cell_type": "code",
      "source": [
        "num_epochs = 10\n",
        "losses = []\n",
        "\n",
        "for epoch in tqdm(range(num_epochs), desc='Training Epochs'):\n",
        "    model.train()\n",
        "    running_loss = 0.0\n",
        "    correct = 0\n",
        "    total = 0\n",
        "    for images, labels in train_loader_svhn:\n",
        "        images, labels = images.to(device), labels.to(device)\n",
        "\n",
        "        optimizer.zero_grad()\n",
        "        outputs = model(images)\n",
        "        loss = criterion(outputs, labels)\n",
        "        loss.backward()\n",
        "        optimizer.step()\n",
        "\n",
        "        running_loss += loss.item()\n",
        "        _, predicted = outputs.max(1)\n",
        "        total += labels.size(0)\n",
        "        correct += predicted.eq(labels).sum().item()\n",
        "\n",
        "    epoch_loss = running_loss / len(train_loader_svhn)\n",
        "    losses.append(epoch_loss)\n",
        "    scheduler.step()\n",
        "\n",
        "    print(f'Epoch {epoch+1}/{num_epochs}, Training Loss: {epoch_loss:.4f}, Training Accuracy: {100.*correct/total:.2f}%')"
      ],
      "metadata": {
        "execution": {
          "iopub.status.busy": "2024-04-02T10:32:40.584252Z",
          "iopub.execute_input": "2024-04-02T10:32:40.584535Z",
          "iopub.status.idle": "2024-04-02T10:42:39.945858Z",
          "shell.execute_reply.started": "2024-04-02T10:32:40.584512Z",
          "shell.execute_reply": "2024-04-02T10:42:39.944837Z"
        },
        "trusted": true,
        "id": "Fmp87wFa4la2",
        "outputId": "2f31e312-2212-4471-a9e5-cf7dd06449a7"
      },
      "execution_count": null,
      "outputs": [
        {
          "name": "stderr",
          "text": "Training Epochs:  10%|█         | 1/10 [01:01<09:16, 61.85s/it]",
          "output_type": "stream"
        },
        {
          "name": "stdout",
          "text": "Epoch 1/10, Training Loss: 1.3709, Training Accuracy: 56.37%\n",
          "output_type": "stream"
        },
        {
          "name": "stderr",
          "text": "Training Epochs:  20%|██        | 2/10 [02:01<08:05, 60.64s/it]",
          "output_type": "stream"
        },
        {
          "name": "stdout",
          "text": "Epoch 2/10, Training Loss: 0.5480, Training Accuracy: 83.21%\n",
          "output_type": "stream"
        },
        {
          "name": "stderr",
          "text": "Training Epochs:  30%|███       | 3/10 [03:01<07:01, 60.28s/it]",
          "output_type": "stream"
        },
        {
          "name": "stdout",
          "text": "Epoch 3/10, Training Loss: 0.3970, Training Accuracy: 88.08%\n",
          "output_type": "stream"
        },
        {
          "name": "stderr",
          "text": "Training Epochs:  40%|████      | 4/10 [04:01<06:00, 60.13s/it]",
          "output_type": "stream"
        },
        {
          "name": "stdout",
          "text": "Epoch 4/10, Training Loss: 0.3289, Training Accuracy: 90.17%\n",
          "output_type": "stream"
        },
        {
          "name": "stderr",
          "text": "Training Epochs:  50%|█████     | 5/10 [05:00<04:59, 59.88s/it]",
          "output_type": "stream"
        },
        {
          "name": "stdout",
          "text": "Epoch 5/10, Training Loss: 0.2759, Training Accuracy: 91.77%\n",
          "output_type": "stream"
        },
        {
          "name": "stderr",
          "text": "Training Epochs:  60%|██████    | 6/10 [06:00<03:59, 59.86s/it]",
          "output_type": "stream"
        },
        {
          "name": "stdout",
          "text": "Epoch 6/10, Training Loss: 0.2452, Training Accuracy: 92.74%\n",
          "output_type": "stream"
        },
        {
          "name": "stderr",
          "text": "Training Epochs:  70%|███████   | 7/10 [07:00<02:59, 59.82s/it]",
          "output_type": "stream"
        },
        {
          "name": "stdout",
          "text": "Epoch 7/10, Training Loss: 0.2137, Training Accuracy: 93.69%\n",
          "output_type": "stream"
        },
        {
          "name": "stderr",
          "text": "Training Epochs:  80%|████████  | 8/10 [08:00<01:59, 59.76s/it]",
          "output_type": "stream"
        },
        {
          "name": "stdout",
          "text": "Epoch 8/10, Training Loss: 0.1833, Training Accuracy: 94.54%\n",
          "output_type": "stream"
        },
        {
          "name": "stderr",
          "text": "Training Epochs:  90%|█████████ | 9/10 [08:59<00:59, 59.64s/it]",
          "output_type": "stream"
        },
        {
          "name": "stdout",
          "text": "Epoch 9/10, Training Loss: 0.1613, Training Accuracy: 95.24%\n",
          "output_type": "stream"
        },
        {
          "name": "stderr",
          "text": "Training Epochs: 100%|██████████| 10/10 [09:59<00:00, 59.93s/it]",
          "output_type": "stream"
        },
        {
          "name": "stdout",
          "text": "Epoch 10/10, Training Loss: 0.1395, Training Accuracy: 95.93%\n",
          "output_type": "stream"
        },
        {
          "name": "stderr",
          "text": "\n",
          "output_type": "stream"
        }
      ]
    },
    {
      "cell_type": "markdown",
      "source": [
        "### plotting the loss"
      ],
      "metadata": {
        "id": "4858QVAR4la3"
      }
    },
    {
      "cell_type": "code",
      "source": [
        "plt.figure(figsize=(10, 5))\n",
        "plt.plot(range(1, num_epochs+1), losses, marker='o', color='blue', label='Training Loss')\n",
        "plt.title(\"Training Loss\")\n",
        "plt.xlabel(\"Epoch\")\n",
        "plt.ylabel(\"Loss\")\n",
        "plt.grid(True)\n",
        "plt.legend()\n",
        "plt.show()"
      ],
      "metadata": {
        "execution": {
          "iopub.status.busy": "2024-04-02T10:42:39.947128Z",
          "iopub.execute_input": "2024-04-02T10:42:39.947436Z",
          "iopub.status.idle": "2024-04-02T10:42:40.259230Z",
          "shell.execute_reply.started": "2024-04-02T10:42:39.947410Z",
          "shell.execute_reply": "2024-04-02T10:42:40.258440Z"
        },
        "trusted": true,
        "id": "Hc1liTd04la3",
        "outputId": "91793f5d-9c91-4fac-fbe1-9177a2d56c85"
      },
      "execution_count": null,
      "outputs": [
        {
          "output_type": "display_data",
          "data": {
            "text/plain": "<Figure size 1000x500 with 1 Axes>",
            "image/png": "[encoded data removed]"
          },
          "metadata": {}
        }
      ]
    },
    {
      "cell_type": "markdown",
      "source": [
        "### Testing the model"
      ],
      "metadata": {
        "id": "REsSxodA4la3"
      }
    },
    {
      "cell_type": "code",
      "source": [
        "def test_model(model, test_loader):\n",
        "    model.eval()\n",
        "    correct = 0\n",
        "    total = 0\n",
        "    with torch.no_grad():\n",
        "        for images, labels in test_loader:\n",
        "            images, labels = images.to(device), labels.to(device)\n",
        "            outputs = model(images)\n",
        "            _, predicted = torch.max(outputs.data, 1)\n",
        "            total += labels.size(0)\n",
        "            correct += (predicted == labels).sum().item()\n",
        "\n",
        "    accuracy = 100 * correct / total\n",
        "    print(f'Accuracy: {accuracy:.2f}%')\n",
        "    return accuracy"
      ],
      "metadata": {
        "execution": {
          "iopub.status.busy": "2024-04-02T10:42:40.260449Z",
          "iopub.execute_input": "2024-04-02T10:42:40.260705Z",
          "iopub.status.idle": "2024-04-02T10:42:40.267253Z",
          "shell.execute_reply.started": "2024-04-02T10:42:40.260682Z",
          "shell.execute_reply": "2024-04-02T10:42:40.266238Z"
        },
        "trusted": true,
        "id": "_jQ2pCmf4la4"
      },
      "execution_count": null,
      "outputs": []
    },
    {
      "cell_type": "markdown",
      "source": [
        "### Results"
      ],
      "metadata": {
        "id": "TQfMy0LC4la4"
      }
    },
    {
      "cell_type": "code",
      "source": [
        "accuracy_svhn = test_model(model, test_loader_svhn)\n",
        "accuracy_mnist = test_model(model, test_loader_mnist)"
      ],
      "metadata": {
        "execution": {
          "iopub.status.busy": "2024-04-02T10:42:40.268284Z",
          "iopub.execute_input": "2024-04-02T10:42:40.268573Z",
          "iopub.status.idle": "2024-04-02T10:42:53.496729Z",
          "shell.execute_reply.started": "2024-04-02T10:42:40.268548Z",
          "shell.execute_reply": "2024-04-02T10:42:53.495634Z"
        },
        "trusted": true,
        "id": "WwykhzSR4la4",
        "outputId": "080228fd-032b-4e16-a79b-e6e0608bc31b"
      },
      "execution_count": null,
      "outputs": [
        {
          "name": "stdout",
          "text": "Accuracy: 91.90%\nAccuracy: 70.42%\n",
          "output_type": "stream"
        }
      ]
    }
  ]
}